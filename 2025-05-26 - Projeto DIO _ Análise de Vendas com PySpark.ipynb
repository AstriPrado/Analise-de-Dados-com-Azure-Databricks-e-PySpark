{
 "cells": [
  {
   "cell_type": "markdown",
   "metadata": {
    "application/vnd.databricks.v1+cell": {
     "cellMetadata": {
      "byteLimit": 2048000,
      "rowLimit": 10000
     },
     "inputWidgets": {},
     "nuid": "96816ed7-b08a-4ca3-abb9-f99880c3535d",
     "showTitle": false,
     "tableResultSettingsMap": {},
     "title": ""
    }
   },
   "source": [
    "\n",
    "## Overview\n",
    "\n",
    "This notebook will show you how to create and query a table or DataFrame that you uploaded to DBFS. [DBFS](https://docs.databricks.com/user-guide/dbfs-databricks-file-system.html) is a Databricks File System that allows you to store data for querying inside of Databricks. This notebook assumes that you have a file already inside of DBFS that you would like to read from.\n",
    "\n",
    "This notebook is written in **Python** so the default cell type is Python. However, you can use different languages by using the `%LANGUAGE` syntax. Python, Scala, SQL, and R are all supported."
   ]
  },
  {
   "cell_type": "markdown",
   "metadata": {
    "application/vnd.databricks.v1+cell": {
     "cellMetadata": {
      "byteLimit": 2048000,
      "rowLimit": 10000
     },
     "inputWidgets": {},
     "nuid": "2f2e7ac4-7153-48af-967f-8f0cc79adc81",
     "showTitle": false,
     "tableResultSettingsMap": {},
     "title": ""
    }
   },
   "source": [
    "Leitura do Arquivo"
   ]
  },
  {
   "cell_type": "code",
   "execution_count": 0,
   "metadata": {
    "application/vnd.databricks.v1+cell": {
     "cellMetadata": {
      "byteLimit": 2048000,
      "rowLimit": 10000
     },
     "inputWidgets": {},
     "nuid": "6482be4c-f067-47c9-b0ac-35c938b94601",
     "showTitle": false,
     "tableResultSettingsMap": {},
     "title": ""
    }
   },
   "outputs": [
    {
     "output_type": "display_data",
     "data": {
      "text/html": [
       "<style scoped>\n",
       "  .table-result-container {\n",
       "    max-height: 300px;\n",
       "    overflow: auto;\n",
       "  }\n",
       "  table, th, td {\n",
       "    border: 1px solid black;\n",
       "    border-collapse: collapse;\n",
       "  }\n",
       "  th, td {\n",
       "    padding: 5px;\n",
       "  }\n",
       "  th {\n",
       "    text-align: left;\n",
       "  }\n",
       "</style><div class='table-result-container'><table class='table-result'><thead style='background-color: white'><tr><th>OrderID</th><th>Date</th><th>Product</th><th>Category</th><th>Amount</th><th>Quantity</th><th>City</th><th>PaymentType</th></tr></thead><tbody><tr><td>1</td><td>2024-12-25</td><td>Monitor</td><td>Eletrônicos</td><td>3904.37</td><td>5</td><td>São Paulo</td><td>Pix</td></tr><tr><td>2</td><td>2025-04-08</td><td>Monitor</td><td>Eletrônicos</td><td>2926.19</td><td>4</td><td>Porto Alegre</td><td>Pix</td></tr><tr><td>3</td><td>2024-09-30</td><td>Mouse</td><td>Acessórios</td><td>3725.78</td><td>2</td><td>Belo Horizonte</td><td>Boleto</td></tr><tr><td>4</td><td>2025-03-31</td><td>Notebook</td><td>Eletrônicos</td><td>839.89</td><td>5</td><td>Curitiba</td><td>Pix</td></tr><tr><td>5</td><td>2025-01-03</td><td>Impressora</td><td>Periféricos</td><td>3742.63</td><td>1</td><td>Porto Alegre</td><td>Transferência</td></tr><tr><td>6</td><td>2024-10-23</td><td>Notebook</td><td>Eletrônicos</td><td>3931.19</td><td>1</td><td>Curitiba</td><td>Transferência</td></tr><tr><td>7</td><td>2024-11-19</td><td>Teclado</td><td>Acessórios</td><td>645.32</td><td>3</td><td>São Paulo</td><td>Boleto</td></tr><tr><td>8</td><td>2025-05-25</td><td>Headset</td><td>Acessórios</td><td>2596.31</td><td>2</td><td>Belo Horizonte</td><td>Cartão de Crédito</td></tr><tr><td>9</td><td>2025-04-21</td><td>Mouse</td><td>Acessórios</td><td>632.61</td><td>3</td><td>Rio de Janeiro</td><td>Boleto</td></tr><tr><td>10</td><td>2024-12-04</td><td>Headset</td><td>Acessórios</td><td>1470.95</td><td>5</td><td>Recife</td><td>Transferência</td></tr><tr><td>11</td><td>2024-11-21</td><td>Monitor</td><td>Eletrônicos</td><td>1736.76</td><td>5</td><td>Rio de Janeiro</td><td>Transferência</td></tr><tr><td>12</td><td>2024-11-23</td><td>Headset</td><td>Acessórios</td><td>4691.8</td><td>4</td><td>São Paulo</td><td>Pix</td></tr><tr><td>13</td><td>2025-01-13</td><td>Impressora</td><td>Periféricos</td><td>3035.7</td><td>1</td><td>São Paulo</td><td>Boleto</td></tr><tr><td>14</td><td>2025-01-12</td><td>Teclado</td><td>Acessórios</td><td>1107.19</td><td>5</td><td>São Paulo</td><td>Boleto</td></tr><tr><td>15</td><td>2024-10-09</td><td>Impressora</td><td>Periféricos</td><td>2937.09</td><td>2</td><td>Porto Alegre</td><td>Pix</td></tr><tr><td>16</td><td>2024-07-28</td><td>Mouse</td><td>Acessórios</td><td>3740.81</td><td>1</td><td>Rio de Janeiro</td><td>Boleto</td></tr><tr><td>17</td><td>2025-01-14</td><td>Notebook</td><td>Eletrônicos</td><td>4797.12</td><td>4</td><td>Belo Horizonte</td><td>Cartão de Crédito</td></tr><tr><td>18</td><td>2024-06-21</td><td>Notebook</td><td>Eletrônicos</td><td>1126.3</td><td>4</td><td>Porto Alegre</td><td>Pix</td></tr><tr><td>19</td><td>2024-08-24</td><td>Notebook</td><td>Eletrônicos</td><td>315.93</td><td>5</td><td>Recife</td><td>Transferência</td></tr><tr><td>20</td><td>2024-11-29</td><td>Mouse</td><td>Acessórios</td><td>1113.32</td><td>3</td><td>Porto Alegre</td><td>Boleto</td></tr><tr><td>21</td><td>2025-01-19</td><td>Impressora</td><td>Periféricos</td><td>4374.54</td><td>1</td><td>Porto Alegre</td><td>Pix</td></tr><tr><td>22</td><td>2024-09-18</td><td>Notebook</td><td>Eletrônicos</td><td>3760.27</td><td>4</td><td>Recife</td><td>Transferência</td></tr><tr><td>23</td><td>2024-07-30</td><td>Notebook</td><td>Eletrônicos</td><td>1513.08</td><td>2</td><td>Belo Horizonte</td><td>Transferência</td></tr><tr><td>24</td><td>2025-05-11</td><td>Monitor</td><td>Eletrônicos</td><td>4355.82</td><td>5</td><td>Recife</td><td>Boleto</td></tr><tr><td>25</td><td>2024-06-04</td><td>Impressora</td><td>Periféricos</td><td>1081.88</td><td>4</td><td>São Paulo</td><td>Transferência</td></tr><tr><td>26</td><td>2024-12-02</td><td>Headset</td><td>Acessórios</td><td>2984.39</td><td>5</td><td>São Paulo</td><td>Cartão de Crédito</td></tr><tr><td>27</td><td>2024-08-29</td><td>Impressora</td><td>Periféricos</td><td>3548.98</td><td>3</td><td>Porto Alegre</td><td>Pix</td></tr><tr><td>28</td><td>2024-11-07</td><td>Mouse</td><td>Acessórios</td><td>4274.26</td><td>2</td><td>Curitiba</td><td>Cartão de Crédito</td></tr><tr><td>29</td><td>2024-08-04</td><td>Impressora</td><td>Periféricos</td><td>3695.24</td><td>4</td><td>Belo Horizonte</td><td>Boleto</td></tr><tr><td>30</td><td>2024-10-12</td><td>Impressora</td><td>Periféricos</td><td>1532.97</td><td>2</td><td>São Paulo</td><td>Cartão de Crédito</td></tr><tr><td>31</td><td>2025-04-29</td><td>Headset</td><td>Acessórios</td><td>4193.69</td><td>4</td><td>Curitiba</td><td>Boleto</td></tr><tr><td>32</td><td>2024-12-20</td><td>Impressora</td><td>Periféricos</td><td>2058.16</td><td>4</td><td>Belo Horizonte</td><td>Pix</td></tr><tr><td>33</td><td>2024-07-06</td><td>Mouse</td><td>Acessórios</td><td>2585.79</td><td>5</td><td>Rio de Janeiro</td><td>Pix</td></tr><tr><td>34</td><td>2024-09-25</td><td>Headset</td><td>Acessórios</td><td>4829.5</td><td>4</td><td>Rio de Janeiro</td><td>Cartão de Crédito</td></tr><tr><td>35</td><td>2024-06-29</td><td>Impressora</td><td>Periféricos</td><td>3917.39</td><td>1</td><td>Rio de Janeiro</td><td>Transferência</td></tr><tr><td>36</td><td>2025-05-09</td><td>Headset</td><td>Acessórios</td><td>1670.52</td><td>2</td><td>Belo Horizonte</td><td>Boleto</td></tr><tr><td>37</td><td>2025-05-07</td><td>Teclado</td><td>Acessórios</td><td>394.95</td><td>5</td><td>Rio de Janeiro</td><td>Pix</td></tr><tr><td>38</td><td>2024-11-17</td><td>Headset</td><td>Acessórios</td><td>3473.21</td><td>2</td><td>São Paulo</td><td>Transferência</td></tr><tr><td>39</td><td>2024-09-02</td><td>Monitor</td><td>Eletrônicos</td><td>4039.71</td><td>4</td><td>Curitiba</td><td>Boleto</td></tr><tr><td>40</td><td>2025-05-22</td><td>Mouse</td><td>Acessórios</td><td>2728.35</td><td>5</td><td>Belo Horizonte</td><td>Transferência</td></tr><tr><td>41</td><td>2024-09-28</td><td>Monitor</td><td>Eletrônicos</td><td>129.95</td><td>3</td><td>São Paulo</td><td>Pix</td></tr><tr><td>42</td><td>2024-08-24</td><td>Impressora</td><td>Periféricos</td><td>2242.77</td><td>1</td><td>Recife</td><td>Cartão de Crédito</td></tr><tr><td>43</td><td>2025-05-23</td><td>Mouse</td><td>Acessórios</td><td>2647.13</td><td>5</td><td>Curitiba</td><td>Boleto</td></tr><tr><td>44</td><td>2024-09-14</td><td>Headset</td><td>Acessórios</td><td>1142.32</td><td>5</td><td>Recife</td><td>Boleto</td></tr><tr><td>45</td><td>2025-03-26</td><td>Teclado</td><td>Acessórios</td><td>4676.55</td><td>4</td><td>Recife</td><td>Boleto</td></tr><tr><td>46</td><td>2025-05-20</td><td>Mouse</td><td>Acessórios</td><td>2379.75</td><td>1</td><td>São Paulo</td><td>Cartão de Crédito</td></tr><tr><td>47</td><td>2024-08-21</td><td>Mouse</td><td>Acessórios</td><td>900.6</td><td>2</td><td>São Paulo</td><td>Transferência</td></tr><tr><td>48</td><td>2024-07-14</td><td>Impressora</td><td>Periféricos</td><td>2015.63</td><td>3</td><td>Recife</td><td>Boleto</td></tr><tr><td>49</td><td>2024-07-25</td><td>Monitor</td><td>Eletrônicos</td><td>4990.45</td><td>1</td><td>São Paulo</td><td>Pix</td></tr><tr><td>50</td><td>2024-07-17</td><td>Notebook</td><td>Eletrônicos</td><td>1903.43</td><td>2</td><td>Recife</td><td>Boleto</td></tr><tr><td>51</td><td>2024-08-14</td><td>Impressora</td><td>Periféricos</td><td>209.1</td><td>1</td><td>Curitiba</td><td>Cartão de Crédito</td></tr><tr><td>52</td><td>2025-01-16</td><td>Mouse</td><td>Acessórios</td><td>4450.97</td><td>4</td><td>Recife</td><td>Boleto</td></tr><tr><td>53</td><td>2024-09-17</td><td>Monitor</td><td>Eletrônicos</td><td>3158.72</td><td>3</td><td>Curitiba</td><td>Boleto</td></tr><tr><td>54</td><td>2024-11-24</td><td>Notebook</td><td>Eletrônicos</td><td>664.83</td><td>4</td><td>Curitiba</td><td>Transferência</td></tr><tr><td>55</td><td>2024-06-23</td><td>Headset</td><td>Acessórios</td><td>3893.49</td><td>2</td><td>Recife</td><td>Transferência</td></tr><tr><td>56</td><td>2024-08-11</td><td>Headset</td><td>Acessórios</td><td>1434.37</td><td>1</td><td>Rio de Janeiro</td><td>Cartão de Crédito</td></tr><tr><td>57</td><td>2024-10-22</td><td>Monitor</td><td>Eletrônicos</td><td>123.17</td><td>5</td><td>Belo Horizonte</td><td>Transferência</td></tr><tr><td>58</td><td>2024-11-09</td><td>Monitor</td><td>Eletrônicos</td><td>4461.71</td><td>2</td><td>Belo Horizonte</td><td>Transferência</td></tr><tr><td>59</td><td>2024-07-06</td><td>Monitor</td><td>Eletrônicos</td><td>179.3</td><td>3</td><td>Rio de Janeiro</td><td>Cartão de Crédito</td></tr><tr><td>60</td><td>2024-08-26</td><td>Teclado</td><td>Acessórios</td><td>4403.65</td><td>5</td><td>São Paulo</td><td>Pix</td></tr><tr><td>61</td><td>2024-05-29</td><td>Mouse</td><td>Acessórios</td><td>4992.5</td><td>5</td><td>Porto Alegre</td><td>Transferência</td></tr><tr><td>62</td><td>2025-03-23</td><td>Teclado</td><td>Acessórios</td><td>3763.56</td><td>1</td><td>Curitiba</td><td>Pix</td></tr><tr><td>63</td><td>2024-12-09</td><td>Monitor</td><td>Eletrônicos</td><td>3264.37</td><td>3</td><td>Curitiba</td><td>Boleto</td></tr><tr><td>64</td><td>2025-03-01</td><td>Monitor</td><td>Eletrônicos</td><td>2521.67</td><td>3</td><td>Recife</td><td>Pix</td></tr><tr><td>65</td><td>2024-11-25</td><td>Headset</td><td>Acessórios</td><td>2339.33</td><td>3</td><td>Belo Horizonte</td><td>Boleto</td></tr><tr><td>66</td><td>2025-04-29</td><td>Impressora</td><td>Periféricos</td><td>3643.91</td><td>5</td><td>Belo Horizonte</td><td>Cartão de Crédito</td></tr><tr><td>67</td><td>2024-06-29</td><td>Teclado</td><td>Acessórios</td><td>1999.38</td><td>3</td><td>Belo Horizonte</td><td>Transferência</td></tr><tr><td>68</td><td>2024-12-20</td><td>Mouse</td><td>Acessórios</td><td>2140.96</td><td>2</td><td>Belo Horizonte</td><td>Boleto</td></tr><tr><td>69</td><td>2024-10-14</td><td>Notebook</td><td>Eletrônicos</td><td>3867.69</td><td>2</td><td>Curitiba</td><td>Cartão de Crédito</td></tr><tr><td>70</td><td>2024-05-27</td><td>Mouse</td><td>Acessórios</td><td>433.31</td><td>2</td><td>São Paulo</td><td>Pix</td></tr><tr><td>71</td><td>2025-02-27</td><td>Teclado</td><td>Acessórios</td><td>4420.73</td><td>4</td><td>Belo Horizonte</td><td>Pix</td></tr><tr><td>72</td><td>2024-12-15</td><td>Impressora</td><td>Periféricos</td><td>3112.99</td><td>4</td><td>Curitiba</td><td>Boleto</td></tr><tr><td>73</td><td>2024-09-23</td><td>Notebook</td><td>Eletrônicos</td><td>3246.27</td><td>4</td><td>Belo Horizonte</td><td>Pix</td></tr><tr><td>74</td><td>2024-10-06</td><td>Mouse</td><td>Acessórios</td><td>2973.43</td><td>3</td><td>Curitiba</td><td>Boleto</td></tr><tr><td>75</td><td>2024-12-26</td><td>Monitor</td><td>Eletrônicos</td><td>3524.91</td><td>5</td><td>Belo Horizonte</td><td>Boleto</td></tr><tr><td>76</td><td>2024-10-30</td><td>Mouse</td><td>Acessórios</td><td>2435.35</td><td>1</td><td>Belo Horizonte</td><td>Pix</td></tr><tr><td>77</td><td>2024-10-02</td><td>Monitor</td><td>Eletrônicos</td><td>1733.38</td><td>3</td><td>Curitiba</td><td>Pix</td></tr><tr><td>78</td><td>2024-10-17</td><td>Mouse</td><td>Acessórios</td><td>842.76</td><td>3</td><td>Curitiba</td><td>Pix</td></tr><tr><td>79</td><td>2024-12-13</td><td>Teclado</td><td>Acessórios</td><td>2390.55</td><td>3</td><td>Porto Alegre</td><td>Pix</td></tr><tr><td>80</td><td>2024-12-01</td><td>Teclado</td><td>Acessórios</td><td>3651.16</td><td>3</td><td>Recife</td><td>Boleto</td></tr><tr><td>81</td><td>2024-09-11</td><td>Impressora</td><td>Periféricos</td><td>3778.71</td><td>4</td><td>São Paulo</td><td>Pix</td></tr><tr><td>82</td><td>2024-10-26</td><td>Notebook</td><td>Eletrônicos</td><td>3341.06</td><td>5</td><td>Curitiba</td><td>Transferência</td></tr><tr><td>83</td><td>2024-11-06</td><td>Headset</td><td>Acessórios</td><td>499.44</td><td>2</td><td>São Paulo</td><td>Boleto</td></tr><tr><td>84</td><td>2024-10-29</td><td>Teclado</td><td>Acessórios</td><td>4042.35</td><td>5</td><td>Porto Alegre</td><td>Pix</td></tr><tr><td>85</td><td>2024-06-20</td><td>Monitor</td><td>Eletrônicos</td><td>1954.36</td><td>5</td><td>Curitiba</td><td>Cartão de Crédito</td></tr><tr><td>86</td><td>2025-04-19</td><td>Notebook</td><td>Eletrônicos</td><td>4085.39</td><td>2</td><td>Porto Alegre</td><td>Boleto</td></tr><tr><td>87</td><td>2024-09-17</td><td>Mouse</td><td>Acessórios</td><td>4782.08</td><td>1</td><td>Porto Alegre</td><td>Pix</td></tr><tr><td>88</td><td>2025-05-01</td><td>Mouse</td><td>Acessórios</td><td>297.56</td><td>2</td><td>Recife</td><td>Pix</td></tr><tr><td>89</td><td>2024-11-27</td><td>Monitor</td><td>Eletrônicos</td><td>2850.66</td><td>3</td><td>Belo Horizonte</td><td>Boleto</td></tr><tr><td>90</td><td>2025-01-08</td><td>Monitor</td><td>Eletrônicos</td><td>4014.53</td><td>5</td><td>Porto Alegre</td><td>Transferência</td></tr><tr><td>91</td><td>2024-08-19</td><td>Mouse</td><td>Acessórios</td><td>1533.0</td><td>2</td><td>Recife</td><td>Pix</td></tr><tr><td>92</td><td>2025-04-12</td><td>Teclado</td><td>Acessórios</td><td>3018.34</td><td>1</td><td>Recife</td><td>Cartão de Crédito</td></tr><tr><td>93</td><td>2025-01-21</td><td>Monitor</td><td>Eletrônicos</td><td>2591.61</td><td>5</td><td>Curitiba</td><td>Pix</td></tr><tr><td>94</td><td>2024-12-25</td><td>Headset</td><td>Acessórios</td><td>2095.64</td><td>3</td><td>São Paulo</td><td>Pix</td></tr><tr><td>95</td><td>2024-08-09</td><td>Monitor</td><td>Eletrônicos</td><td>590.35</td><td>3</td><td>Curitiba</td><td>Transferência</td></tr><tr><td>96</td><td>2024-07-23</td><td>Teclado</td><td>Acessórios</td><td>1760.34</td><td>3</td><td>São Paulo</td><td>Transferência</td></tr><tr><td>97</td><td>2025-04-27</td><td>Notebook</td><td>Eletrônicos</td><td>2272.54</td><td>4</td><td>Porto Alegre</td><td>Cartão de Crédito</td></tr><tr><td>98</td><td>2024-06-18</td><td>Monitor</td><td>Eletrônicos</td><td>2945.75</td><td>1</td><td>São Paulo</td><td>Transferência</td></tr><tr><td>99</td><td>2024-11-09</td><td>Teclado</td><td>Acessórios</td><td>3676.66</td><td>2</td><td>Belo Horizonte</td><td>Cartão de Crédito</td></tr><tr><td>100</td><td>2024-10-14</td><td>Notebook</td><td>Eletrônicos</td><td>4870.64</td><td>1</td><td>Porto Alegre</td><td>Cartão de Crédito</td></tr><tr><td>101</td><td>2025-02-18</td><td>Mouse</td><td>Acessórios</td><td>839.98</td><td>2</td><td>Porto Alegre</td><td>Transferência</td></tr><tr><td>102</td><td>2025-03-05</td><td>Headset</td><td>Acessórios</td><td>4038.73</td><td>4</td><td>Recife</td><td>Transferência</td></tr><tr><td>103</td><td>2024-12-31</td><td>Mouse</td><td>Acessórios</td><td>1024.01</td><td>1</td><td>Porto Alegre</td><td>Boleto</td></tr><tr><td>104</td><td>2024-09-19</td><td>Notebook</td><td>Eletrônicos</td><td>2008.73</td><td>2</td><td>Recife</td><td>Pix</td></tr><tr><td>105</td><td>2025-02-07</td><td>Impressora</td><td>Periféricos</td><td>3655.29</td><td>3</td><td>Recife</td><td>Boleto</td></tr><tr><td>106</td><td>2025-05-21</td><td>Notebook</td><td>Eletrônicos</td><td>2941.5</td><td>3</td><td>Recife</td><td>Pix</td></tr><tr><td>107</td><td>2024-06-16</td><td>Mouse</td><td>Acessórios</td><td>558.65</td><td>4</td><td>Rio de Janeiro</td><td>Pix</td></tr><tr><td>108</td><td>2025-01-30</td><td>Mouse</td><td>Acessórios</td><td>1349.69</td><td>5</td><td>Rio de Janeiro</td><td>Transferência</td></tr><tr><td>109</td><td>2024-11-30</td><td>Impressora</td><td>Periféricos</td><td>3195.7</td><td>1</td><td>Recife</td><td>Boleto</td></tr><tr><td>110</td><td>2025-05-01</td><td>Monitor</td><td>Eletrônicos</td><td>333.58</td><td>2</td><td>Porto Alegre</td><td>Pix</td></tr><tr><td>111</td><td>2025-05-04</td><td>Teclado</td><td>Acessórios</td><td>2687.74</td><td>4</td><td>Porto Alegre</td><td>Boleto</td></tr><tr><td>112</td><td>2025-03-10</td><td>Impressora</td><td>Periféricos</td><td>2719.9</td><td>5</td><td>Recife</td><td>Pix</td></tr><tr><td>113</td><td>2024-06-22</td><td>Notebook</td><td>Eletrônicos</td><td>3182.56</td><td>1</td><td>Rio de Janeiro</td><td>Transferência</td></tr><tr><td>114</td><td>2024-10-05</td><td>Monitor</td><td>Eletrônicos</td><td>1746.13</td><td>3</td><td>Porto Alegre</td><td>Pix</td></tr><tr><td>115</td><td>2024-06-30</td><td>Notebook</td><td>Eletrônicos</td><td>2579.69</td><td>1</td><td>Curitiba</td><td>Pix</td></tr><tr><td>116</td><td>2025-02-18</td><td>Mouse</td><td>Acessórios</td><td>3457.55</td><td>1</td><td>Porto Alegre</td><td>Cartão de Crédito</td></tr><tr><td>117</td><td>2025-04-08</td><td>Teclado</td><td>Acessórios</td><td>3088.54</td><td>4</td><td>Recife</td><td>Cartão de Crédito</td></tr><tr><td>118</td><td>2025-01-07</td><td>Monitor</td><td>Eletrônicos</td><td>2332.0</td><td>4</td><td>Porto Alegre</td><td>Pix</td></tr><tr><td>119</td><td>2024-12-13</td><td>Impressora</td><td>Periféricos</td><td>616.34</td><td>2</td><td>Porto Alegre</td><td>Pix</td></tr><tr><td>120</td><td>2024-08-09</td><td>Headset</td><td>Acessórios</td><td>3027.43</td><td>3</td><td>Rio de Janeiro</td><td>Cartão de Crédito</td></tr><tr><td>121</td><td>2025-03-04</td><td>Impressora</td><td>Periféricos</td><td>267.65</td><td>1</td><td>Recife</td><td>Boleto</td></tr><tr><td>122</td><td>2024-12-24</td><td>Notebook</td><td>Eletrônicos</td><td>1698.92</td><td>2</td><td>Curitiba</td><td>Transferência</td></tr><tr><td>123</td><td>2025-02-22</td><td>Mouse</td><td>Acessórios</td><td>4512.31</td><td>2</td><td>São Paulo</td><td>Boleto</td></tr><tr><td>124</td><td>2025-02-03</td><td>Mouse</td><td>Acessórios</td><td>2678.71</td><td>4</td><td>Curitiba</td><td>Pix</td></tr><tr><td>125</td><td>2025-05-23</td><td>Notebook</td><td>Eletrônicos</td><td>1769.46</td><td>3</td><td>Porto Alegre</td><td>Transferência</td></tr><tr><td>126</td><td>2024-08-14</td><td>Monitor</td><td>Eletrônicos</td><td>3355.12</td><td>1</td><td>São Paulo</td><td>Pix</td></tr><tr><td>127</td><td>2024-06-14</td><td>Teclado</td><td>Acessórios</td><td>3661.6</td><td>5</td><td>Recife</td><td>Pix</td></tr><tr><td>128</td><td>2024-08-21</td><td>Headset</td><td>Acessórios</td><td>2214.22</td><td>1</td><td>Recife</td><td>Transferência</td></tr><tr><td>129</td><td>2024-07-01</td><td>Teclado</td><td>Acessórios</td><td>1425.38</td><td>2</td><td>Rio de Janeiro</td><td>Boleto</td></tr><tr><td>130</td><td>2025-04-23</td><td>Notebook</td><td>Eletrônicos</td><td>1547.41</td><td>1</td><td>Curitiba</td><td>Boleto</td></tr><tr><td>131</td><td>2024-10-30</td><td>Mouse</td><td>Acessórios</td><td>3383.93</td><td>3</td><td>Porto Alegre</td><td>Boleto</td></tr><tr><td>132</td><td>2024-10-22</td><td>Impressora</td><td>Periféricos</td><td>4623.58</td><td>1</td><td>Rio de Janeiro</td><td>Pix</td></tr><tr><td>133</td><td>2024-08-16</td><td>Teclado</td><td>Acessórios</td><td>2743.1</td><td>4</td><td>São Paulo</td><td>Cartão de Crédito</td></tr><tr><td>134</td><td>2025-01-11</td><td>Impressora</td><td>Periféricos</td><td>4811.41</td><td>2</td><td>Porto Alegre</td><td>Pix</td></tr><tr><td>135</td><td>2025-03-18</td><td>Mouse</td><td>Acessórios</td><td>3422.5</td><td>3</td><td>Rio de Janeiro</td><td>Pix</td></tr><tr><td>136</td><td>2025-03-08</td><td>Headset</td><td>Acessórios</td><td>2630.36</td><td>4</td><td>Belo Horizonte</td><td>Cartão de Crédito</td></tr><tr><td>137</td><td>2025-03-27</td><td>Monitor</td><td>Eletrônicos</td><td>823.44</td><td>2</td><td>Rio de Janeiro</td><td>Cartão de Crédito</td></tr><tr><td>138</td><td>2025-03-29</td><td>Impressora</td><td>Periféricos</td><td>4706.63</td><td>4</td><td>Curitiba</td><td>Transferência</td></tr><tr><td>139</td><td>2024-06-08</td><td>Notebook</td><td>Eletrônicos</td><td>1591.15</td><td>2</td><td>Porto Alegre</td><td>Pix</td></tr><tr><td>140</td><td>2024-07-11</td><td>Monitor</td><td>Eletrônicos</td><td>1576.07</td><td>1</td><td>Curitiba</td><td>Pix</td></tr><tr><td>141</td><td>2025-01-08</td><td>Teclado</td><td>Acessórios</td><td>1185.65</td><td>1</td><td>Porto Alegre</td><td>Pix</td></tr><tr><td>142</td><td>2024-11-20</td><td>Headset</td><td>Acessórios</td><td>1991.21</td><td>4</td><td>Belo Horizonte</td><td>Cartão de Crédito</td></tr><tr><td>143</td><td>2024-10-18</td><td>Monitor</td><td>Eletrônicos</td><td>3688.35</td><td>4</td><td>Belo Horizonte</td><td>Cartão de Crédito</td></tr><tr><td>144</td><td>2025-02-12</td><td>Teclado</td><td>Acessórios</td><td>696.78</td><td>3</td><td>Rio de Janeiro</td><td>Cartão de Crédito</td></tr><tr><td>145</td><td>2025-02-13</td><td>Notebook</td><td>Eletrônicos</td><td>2086.85</td><td>5</td><td>Porto Alegre</td><td>Boleto</td></tr><tr><td>146</td><td>2024-05-25</td><td>Monitor</td><td>Eletrônicos</td><td>468.71</td><td>4</td><td>São Paulo</td><td>Cartão de Crédito</td></tr><tr><td>147</td><td>2024-07-03</td><td>Notebook</td><td>Eletrônicos</td><td>2814.64</td><td>2</td><td>Curitiba</td><td>Transferência</td></tr><tr><td>148</td><td>2025-03-24</td><td>Headset</td><td>Acessórios</td><td>1682.42</td><td>2</td><td>Recife</td><td>Cartão de Crédito</td></tr><tr><td>149</td><td>2024-06-03</td><td>Monitor</td><td>Eletrônicos</td><td>3357.87</td><td>3</td><td>Recife</td><td>Boleto</td></tr><tr><td>150</td><td>2025-01-18</td><td>Notebook</td><td>Eletrônicos</td><td>4363.42</td><td>5</td><td>Porto Alegre</td><td>Cartão de Crédito</td></tr><tr><td>151</td><td>2025-04-02</td><td>Mouse</td><td>Acessórios</td><td>2548.47</td><td>3</td><td>Rio de Janeiro</td><td>Transferência</td></tr><tr><td>152</td><td>2024-09-01</td><td>Monitor</td><td>Eletrônicos</td><td>2161.96</td><td>2</td><td>Rio de Janeiro</td><td>Cartão de Crédito</td></tr><tr><td>153</td><td>2024-11-06</td><td>Monitor</td><td>Eletrônicos</td><td>4609.13</td><td>4</td><td>Belo Horizonte</td><td>Pix</td></tr><tr><td>154</td><td>2025-03-10</td><td>Monitor</td><td>Eletrônicos</td><td>4365.16</td><td>3</td><td>Belo Horizonte</td><td>Cartão de Crédito</td></tr><tr><td>155</td><td>2024-06-29</td><td>Teclado</td><td>Acessórios</td><td>978.06</td><td>4</td><td>Rio de Janeiro</td><td>Transferência</td></tr><tr><td>156</td><td>2024-06-28</td><td>Monitor</td><td>Eletrônicos</td><td>3982.19</td><td>2</td><td>Curitiba</td><td>Cartão de Crédito</td></tr><tr><td>157</td><td>2024-09-21</td><td>Impressora</td><td>Periféricos</td><td>3936.26</td><td>2</td><td>São Paulo</td><td>Boleto</td></tr><tr><td>158</td><td>2025-01-25</td><td>Impressora</td><td>Periféricos</td><td>1239.86</td><td>4</td><td>São Paulo</td><td>Pix</td></tr><tr><td>159</td><td>2025-01-17</td><td>Monitor</td><td>Eletrônicos</td><td>1738.84</td><td>5</td><td>Recife</td><td>Pix</td></tr><tr><td>160</td><td>2024-08-13</td><td>Headset</td><td>Acessórios</td><td>775.46</td><td>1</td><td>São Paulo</td><td>Boleto</td></tr><tr><td>161</td><td>2024-06-22</td><td>Headset</td><td>Acessórios</td><td>1551.74</td><td>5</td><td>Porto Alegre</td><td>Cartão de Crédito</td></tr><tr><td>162</td><td>2024-11-26</td><td>Teclado</td><td>Acessórios</td><td>4584.84</td><td>2</td><td>Rio de Janeiro</td><td>Boleto</td></tr><tr><td>163</td><td>2024-10-07</td><td>Notebook</td><td>Eletrônicos</td><td>2229.86</td><td>5</td><td>Belo Horizonte</td><td>Boleto</td></tr><tr><td>164</td><td>2025-04-04</td><td>Teclado</td><td>Acessórios</td><td>4093.59</td><td>4</td><td>Recife</td><td>Transferência</td></tr><tr><td>165</td><td>2025-03-18</td><td>Impressora</td><td>Periféricos</td><td>4058.47</td><td>1</td><td>Belo Horizonte</td><td>Pix</td></tr><tr><td>166</td><td>2025-01-26</td><td>Notebook</td><td>Eletrônicos</td><td>4064.92</td><td>5</td><td>Curitiba</td><td>Boleto</td></tr><tr><td>167</td><td>2025-03-07</td><td>Notebook</td><td>Eletrônicos</td><td>1233.94</td><td>2</td><td>Rio de Janeiro</td><td>Transferência</td></tr><tr><td>168</td><td>2025-03-29</td><td>Monitor</td><td>Eletrônicos</td><td>510.38</td><td>4</td><td>Belo Horizonte</td><td>Cartão de Crédito</td></tr><tr><td>169</td><td>2025-02-12</td><td>Teclado</td><td>Acessórios</td><td>139.52</td><td>3</td><td>Belo Horizonte</td><td>Transferência</td></tr><tr><td>170</td><td>2025-05-18</td><td>Headset</td><td>Acessórios</td><td>4574.75</td><td>3</td><td>Rio de Janeiro</td><td>Boleto</td></tr><tr><td>171</td><td>2025-04-16</td><td>Headset</td><td>Acessórios</td><td>3852.48</td><td>4</td><td>Curitiba</td><td>Pix</td></tr><tr><td>172</td><td>2024-12-29</td><td>Monitor</td><td>Eletrônicos</td><td>696.52</td><td>1</td><td>São Paulo</td><td>Boleto</td></tr><tr><td>173</td><td>2025-02-24</td><td>Impressora</td><td>Periféricos</td><td>1050.35</td><td>3</td><td>Porto Alegre</td><td>Boleto</td></tr><tr><td>174</td><td>2024-06-04</td><td>Monitor</td><td>Eletrônicos</td><td>1452.75</td><td>2</td><td>Recife</td><td>Pix</td></tr><tr><td>175</td><td>2024-09-03</td><td>Monitor</td><td>Eletrônicos</td><td>2594.94</td><td>3</td><td>Belo Horizonte</td><td>Boleto</td></tr><tr><td>176</td><td>2024-09-28</td><td>Mouse</td><td>Acessórios</td><td>1999.23</td><td>2</td><td>Porto Alegre</td><td>Boleto</td></tr><tr><td>177</td><td>2024-07-03</td><td>Impressora</td><td>Periféricos</td><td>4728.35</td><td>3</td><td>Curitiba</td><td>Pix</td></tr><tr><td>178</td><td>2025-01-26</td><td>Mouse</td><td>Acessórios</td><td>1339.29</td><td>5</td><td>Rio de Janeiro</td><td>Cartão de Crédito</td></tr><tr><td>179</td><td>2024-09-09</td><td>Monitor</td><td>Eletrônicos</td><td>2770.65</td><td>2</td><td>Curitiba</td><td>Pix</td></tr><tr><td>180</td><td>2024-11-04</td><td>Headset</td><td>Acessórios</td><td>1878.1</td><td>4</td><td>Rio de Janeiro</td><td>Cartão de Crédito</td></tr><tr><td>181</td><td>2025-03-25</td><td>Notebook</td><td>Eletrônicos</td><td>495.02</td><td>3</td><td>Rio de Janeiro</td><td>Cartão de Crédito</td></tr><tr><td>182</td><td>2025-01-23</td><td>Headset</td><td>Acessórios</td><td>4817.98</td><td>5</td><td>Curitiba</td><td>Pix</td></tr><tr><td>183</td><td>2024-11-24</td><td>Notebook</td><td>Eletrônicos</td><td>2780.24</td><td>3</td><td>Recife</td><td>Cartão de Crédito</td></tr><tr><td>184</td><td>2025-03-25</td><td>Notebook</td><td>Eletrônicos</td><td>790.2</td><td>4</td><td>Rio de Janeiro</td><td>Cartão de Crédito</td></tr><tr><td>185</td><td>2024-07-02</td><td>Mouse</td><td>Acessórios</td><td>244.4</td><td>3</td><td>Curitiba</td><td>Transferência</td></tr><tr><td>186</td><td>2025-01-15</td><td>Headset</td><td>Acessórios</td><td>2508.92</td><td>1</td><td>Rio de Janeiro</td><td>Pix</td></tr><tr><td>187</td><td>2025-02-23</td><td>Headset</td><td>Acessórios</td><td>3116.95</td><td>1</td><td>Porto Alegre</td><td>Boleto</td></tr><tr><td>188</td><td>2024-12-07</td><td>Impressora</td><td>Periféricos</td><td>4969.45</td><td>1</td><td>São Paulo</td><td>Boleto</td></tr><tr><td>189</td><td>2025-04-29</td><td>Notebook</td><td>Eletrônicos</td><td>4397.84</td><td>4</td><td>Curitiba</td><td>Boleto</td></tr><tr><td>190</td><td>2025-01-08</td><td>Teclado</td><td>Acessórios</td><td>4937.52</td><td>3</td><td>Recife</td><td>Pix</td></tr><tr><td>191</td><td>2025-01-02</td><td>Notebook</td><td>Eletrônicos</td><td>277.76</td><td>2</td><td>Recife</td><td>Boleto</td></tr><tr><td>192</td><td>2025-05-22</td><td>Impressora</td><td>Periféricos</td><td>3390.75</td><td>4</td><td>Recife</td><td>Boleto</td></tr><tr><td>193</td><td>2025-03-07</td><td>Impressora</td><td>Periféricos</td><td>3074.63</td><td>4</td><td>Belo Horizonte</td><td>Transferência</td></tr><tr><td>194</td><td>2024-10-22</td><td>Headset</td><td>Acessórios</td><td>2129.59</td><td>2</td><td>São Paulo</td><td>Transferência</td></tr><tr><td>195</td><td>2025-02-20</td><td>Monitor</td><td>Eletrônicos</td><td>4555.64</td><td>5</td><td>Porto Alegre</td><td>Cartão de Crédito</td></tr><tr><td>196</td><td>2024-09-26</td><td>Monitor</td><td>Eletrônicos</td><td>2287.6</td><td>4</td><td>Belo Horizonte</td><td>Pix</td></tr><tr><td>197</td><td>2025-05-14</td><td>Mouse</td><td>Acessórios</td><td>4867.2</td><td>1</td><td>São Paulo</td><td>Boleto</td></tr><tr><td>198</td><td>2024-06-23</td><td>Mouse</td><td>Acessórios</td><td>576.55</td><td>1</td><td>Porto Alegre</td><td>Transferência</td></tr><tr><td>199</td><td>2024-06-26</td><td>Headset</td><td>Acessórios</td><td>916.19</td><td>3</td><td>Curitiba</td><td>Transferência</td></tr><tr><td>200</td><td>2024-09-19</td><td>Teclado</td><td>Acessórios</td><td>4308.79</td><td>3</td><td>Rio de Janeiro</td><td>Pix</td></tr><tr><td>201</td><td>2025-05-01</td><td>Impressora</td><td>Periféricos</td><td>3127.88</td><td>5</td><td>Belo Horizonte</td><td>Pix</td></tr><tr><td>202</td><td>2025-02-02</td><td>Headset</td><td>Acessórios</td><td>987.88</td><td>3</td><td>Curitiba</td><td>Pix</td></tr><tr><td>203</td><td>2024-05-26</td><td>Teclado</td><td>Acessórios</td><td>2003.91</td><td>5</td><td>Curitiba</td><td>Pix</td></tr><tr><td>204</td><td>2024-07-12</td><td>Impressora</td><td>Periféricos</td><td>4160.87</td><td>5</td><td>Belo Horizonte</td><td>Transferência</td></tr><tr><td>205</td><td>2025-01-08</td><td>Notebook</td><td>Eletrônicos</td><td>3532.95</td><td>3</td><td>Curitiba</td><td>Pix</td></tr><tr><td>206</td><td>2025-04-10</td><td>Mouse</td><td>Acessórios</td><td>4074.9</td><td>2</td><td>São Paulo</td><td>Transferência</td></tr><tr><td>207</td><td>2024-09-28</td><td>Mouse</td><td>Acessórios</td><td>669.92</td><td>3</td><td>Rio de Janeiro</td><td>Transferência</td></tr><tr><td>208</td><td>2025-03-30</td><td>Notebook</td><td>Eletrônicos</td><td>1433.48</td><td>3</td><td>São Paulo</td><td>Boleto</td></tr><tr><td>209</td><td>2024-07-06</td><td>Headset</td><td>Acessórios</td><td>4648.74</td><td>5</td><td>São Paulo</td><td>Boleto</td></tr><tr><td>210</td><td>2025-02-12</td><td>Headset</td><td>Acessórios</td><td>318.99</td><td>1</td><td>Recife</td><td>Transferência</td></tr><tr><td>211</td><td>2025-03-09</td><td>Headset</td><td>Acessórios</td><td>1672.92</td><td>1</td><td>São Paulo</td><td>Transferência</td></tr><tr><td>212</td><td>2025-04-18</td><td>Teclado</td><td>Acessórios</td><td>4517.99</td><td>2</td><td>Rio de Janeiro</td><td>Pix</td></tr><tr><td>213</td><td>2024-08-08</td><td>Teclado</td><td>Acessórios</td><td>617.04</td><td>1</td><td>Belo Horizonte</td><td>Boleto</td></tr><tr><td>214</td><td>2024-09-21</td><td>Headset</td><td>Acessórios</td><td>4146.0</td><td>4</td><td>Belo Horizonte</td><td>Cartão de Crédito</td></tr><tr><td>215</td><td>2024-10-07</td><td>Headset</td><td>Acessórios</td><td>2077.49</td><td>3</td><td>Curitiba</td><td>Cartão de Crédito</td></tr><tr><td>216</td><td>2024-07-23</td><td>Notebook</td><td>Eletrônicos</td><td>593.29</td><td>1</td><td>Curitiba</td><td>Boleto</td></tr><tr><td>217</td><td>2024-07-29</td><td>Teclado</td><td>Acessórios</td><td>4276.67</td><td>2</td><td>Rio de Janeiro</td><td>Cartão de Crédito</td></tr><tr><td>218</td><td>2024-10-30</td><td>Impressora</td><td>Periféricos</td><td>1696.63</td><td>4</td><td>Curitiba</td><td>Cartão de Crédito</td></tr><tr><td>219</td><td>2024-07-19</td><td>Headset</td><td>Acessórios</td><td>4508.91</td><td>2</td><td>Rio de Janeiro</td><td>Cartão de Crédito</td></tr><tr><td>220</td><td>2024-06-18</td><td>Teclado</td><td>Acessórios</td><td>717.49</td><td>4</td><td>Rio de Janeiro</td><td>Pix</td></tr><tr><td>221</td><td>2025-01-13</td><td>Teclado</td><td>Acessórios</td><td>1572.68</td><td>2</td><td>Curitiba</td><td>Cartão de Crédito</td></tr><tr><td>222</td><td>2025-05-07</td><td>Teclado</td><td>Acessórios</td><td>1924.0</td><td>3</td><td>Belo Horizonte</td><td>Boleto</td></tr><tr><td>223</td><td>2024-09-07</td><td>Monitor</td><td>Eletrônicos</td><td>4576.43</td><td>4</td><td>Curitiba</td><td>Transferência</td></tr><tr><td>224</td><td>2024-12-05</td><td>Headset</td><td>Acessórios</td><td>1846.31</td><td>2</td><td>Curitiba</td><td>Boleto</td></tr><tr><td>225</td><td>2024-10-22</td><td>Notebook</td><td>Eletrônicos</td><td>3644.07</td><td>5</td><td>Porto Alegre</td><td>Cartão de Crédito</td></tr><tr><td>226</td><td>2024-09-29</td><td>Monitor</td><td>Eletrônicos</td><td>3500.06</td><td>2</td><td>Porto Alegre</td><td>Pix</td></tr><tr><td>227</td><td>2025-03-22</td><td>Monitor</td><td>Eletrônicos</td><td>558.13</td><td>5</td><td>Belo Horizonte</td><td>Cartão de Crédito</td></tr><tr><td>228</td><td>2024-09-29</td><td>Notebook</td><td>Eletrônicos</td><td>2608.59</td><td>2</td><td>Belo Horizonte</td><td>Boleto</td></tr><tr><td>229</td><td>2025-04-22</td><td>Teclado</td><td>Acessórios</td><td>3249.02</td><td>4</td><td>Belo Horizonte</td><td>Pix</td></tr><tr><td>230</td><td>2024-09-02</td><td>Mouse</td><td>Acessórios</td><td>1730.75</td><td>3</td><td>Rio de Janeiro</td><td>Boleto</td></tr><tr><td>231</td><td>2024-08-06</td><td>Teclado</td><td>Acessórios</td><td>3680.35</td><td>4</td><td>Rio de Janeiro</td><td>Cartão de Crédito</td></tr><tr><td>232</td><td>2024-11-05</td><td>Monitor</td><td>Eletrônicos</td><td>3061.3</td><td>5</td><td>Rio de Janeiro</td><td>Cartão de Crédito</td></tr><tr><td>233</td><td>2025-04-03</td><td>Headset</td><td>Acessórios</td><td>1538.3</td><td>5</td><td>Recife</td><td>Cartão de Crédito</td></tr><tr><td>234</td><td>2024-10-18</td><td>Monitor</td><td>Eletrônicos</td><td>3300.68</td><td>4</td><td>Porto Alegre</td><td>Cartão de Crédito</td></tr><tr><td>235</td><td>2025-04-07</td><td>Impressora</td><td>Periféricos</td><td>163.66</td><td>4</td><td>São Paulo</td><td>Boleto</td></tr><tr><td>236</td><td>2024-06-25</td><td>Notebook</td><td>Eletrônicos</td><td>1254.43</td><td>5</td><td>São Paulo</td><td>Pix</td></tr><tr><td>237</td><td>2024-06-07</td><td>Notebook</td><td>Eletrônicos</td><td>1696.0</td><td>4</td><td>Recife</td><td>Transferência</td></tr><tr><td>238</td><td>2024-06-28</td><td>Mouse</td><td>Acessórios</td><td>3868.37</td><td>1</td><td>Recife</td><td>Transferência</td></tr><tr><td>239</td><td>2024-06-10</td><td>Teclado</td><td>Acessórios</td><td>3336.4</td><td>2</td><td>Porto Alegre</td><td>Transferência</td></tr><tr><td>240</td><td>2025-03-24</td><td>Teclado</td><td>Acessórios</td><td>3461.68</td><td>2</td><td>São Paulo</td><td>Cartão de Crédito</td></tr><tr><td>241</td><td>2025-04-28</td><td>Monitor</td><td>Eletrônicos</td><td>3543.28</td><td>2</td><td>São Paulo</td><td>Pix</td></tr><tr><td>242</td><td>2024-06-16</td><td>Impressora</td><td>Periféricos</td><td>1257.39</td><td>5</td><td>Porto Alegre</td><td>Boleto</td></tr><tr><td>243</td><td>2025-01-22</td><td>Notebook</td><td>Eletrônicos</td><td>2510.74</td><td>2</td><td>Curitiba</td><td>Cartão de Crédito</td></tr><tr><td>244</td><td>2024-07-17</td><td>Monitor</td><td>Eletrônicos</td><td>4388.18</td><td>4</td><td>Rio de Janeiro</td><td>Cartão de Crédito</td></tr><tr><td>245</td><td>2025-01-02</td><td>Monitor</td><td>Eletrônicos</td><td>4645.45</td><td>1</td><td>Rio de Janeiro</td><td>Transferência</td></tr><tr><td>246</td><td>2025-01-21</td><td>Teclado</td><td>Acessórios</td><td>2106.7</td><td>2</td><td>Recife</td><td>Pix</td></tr><tr><td>247</td><td>2024-10-28</td><td>Teclado</td><td>Acessórios</td><td>1290.68</td><td>3</td><td>Porto Alegre</td><td>Pix</td></tr><tr><td>248</td><td>2024-06-05</td><td>Impressora</td><td>Periféricos</td><td>4555.99</td><td>4</td><td>Recife</td><td>Boleto</td></tr><tr><td>249</td><td>2025-03-27</td><td>Impressora</td><td>Periféricos</td><td>3048.91</td><td>1</td><td>Porto Alegre</td><td>Cartão de Crédito</td></tr><tr><td>250</td><td>2025-03-15</td><td>Impressora</td><td>Periféricos</td><td>1833.55</td><td>4</td><td>Curitiba</td><td>Boleto</td></tr><tr><td>251</td><td>2024-10-22</td><td>Monitor</td><td>Eletrônicos</td><td>1453.23</td><td>3</td><td>Recife</td><td>Pix</td></tr><tr><td>252</td><td>2025-01-04</td><td>Headset</td><td>Acessórios</td><td>2276.7</td><td>1</td><td>Rio de Janeiro</td><td>Boleto</td></tr><tr><td>253</td><td>2025-02-18</td><td>Mouse</td><td>Acessórios</td><td>3700.14</td><td>3</td><td>São Paulo</td><td>Boleto</td></tr><tr><td>254</td><td>2024-10-11</td><td>Notebook</td><td>Eletrônicos</td><td>2372.49</td><td>5</td><td>Curitiba</td><td>Pix</td></tr><tr><td>255</td><td>2024-10-04</td><td>Impressora</td><td>Periféricos</td><td>1977.24</td><td>2</td><td>São Paulo</td><td>Transferência</td></tr><tr><td>256</td><td>2024-10-07</td><td>Headset</td><td>Acessórios</td><td>3759.23</td><td>2</td><td>Recife</td><td>Pix</td></tr><tr><td>257</td><td>2024-07-23</td><td>Teclado</td><td>Acessórios</td><td>2690.52</td><td>3</td><td>Belo Horizonte</td><td>Cartão de Crédito</td></tr><tr><td>258</td><td>2025-04-23</td><td>Monitor</td><td>Eletrônicos</td><td>2959.53</td><td>3</td><td>Belo Horizonte</td><td>Pix</td></tr><tr><td>259</td><td>2024-12-30</td><td>Monitor</td><td>Eletrônicos</td><td>1768.07</td><td>2</td><td>Belo Horizonte</td><td>Pix</td></tr><tr><td>260</td><td>2024-08-02</td><td>Headset</td><td>Acessórios</td><td>3793.67</td><td>5</td><td>Rio de Janeiro</td><td>Transferência</td></tr><tr><td>261</td><td>2024-11-22</td><td>Headset</td><td>Acessórios</td><td>1105.25</td><td>1</td><td>Curitiba</td><td>Cartão de Crédito</td></tr><tr><td>262</td><td>2025-01-10</td><td>Headset</td><td>Acessórios</td><td>3397.57</td><td>1</td><td>São Paulo</td><td>Boleto</td></tr><tr><td>263</td><td>2024-08-06</td><td>Headset</td><td>Acessórios</td><td>4478.56</td><td>5</td><td>Recife</td><td>Transferência</td></tr><tr><td>264</td><td>2024-09-10</td><td>Mouse</td><td>Acessórios</td><td>1092.21</td><td>5</td><td>Belo Horizonte</td><td>Cartão de Crédito</td></tr><tr><td>265</td><td>2025-02-07</td><td>Impressora</td><td>Periféricos</td><td>628.24</td><td>1</td><td>Belo Horizonte</td><td>Transferência</td></tr><tr><td>266</td><td>2024-07-15</td><td>Notebook</td><td>Eletrônicos</td><td>3063.85</td><td>4</td><td>Recife</td><td>Cartão de Crédito</td></tr><tr><td>267</td><td>2024-06-09</td><td>Teclado</td><td>Acessórios</td><td>3580.16</td><td>2</td><td>Belo Horizonte</td><td>Transferência</td></tr><tr><td>268</td><td>2025-04-24</td><td>Mouse</td><td>Acessórios</td><td>2563.6</td><td>1</td><td>Curitiba</td><td>Boleto</td></tr><tr><td>269</td><td>2025-04-10</td><td>Mouse</td><td>Acessórios</td><td>2511.52</td><td>1</td><td>Porto Alegre</td><td>Cartão de Crédito</td></tr><tr><td>270</td><td>2024-06-10</td><td>Headset</td><td>Acessórios</td><td>2627.82</td><td>4</td><td>São Paulo</td><td>Pix</td></tr><tr><td>271</td><td>2024-06-26</td><td>Headset</td><td>Acessórios</td><td>1839.05</td><td>3</td><td>Recife</td><td>Cartão de Crédito</td></tr><tr><td>272</td><td>2024-09-19</td><td>Mouse</td><td>Acessórios</td><td>4645.7</td><td>3</td><td>Curitiba</td><td>Boleto</td></tr><tr><td>273</td><td>2025-02-20</td><td>Teclado</td><td>Acessórios</td><td>2333.38</td><td>2</td><td>Rio de Janeiro</td><td>Pix</td></tr><tr><td>274</td><td>2024-11-26</td><td>Mouse</td><td>Acessórios</td><td>751.15</td><td>3</td><td>São Paulo</td><td>Cartão de Crédito</td></tr><tr><td>275</td><td>2025-02-03</td><td>Monitor</td><td>Eletrônicos</td><td>3739.47</td><td>1</td><td>São Paulo</td><td>Transferência</td></tr><tr><td>276</td><td>2025-02-03</td><td>Notebook</td><td>Eletrônicos</td><td>3080.3</td><td>5</td><td>Porto Alegre</td><td>Boleto</td></tr><tr><td>277</td><td>2025-01-14</td><td>Teclado</td><td>Acessórios</td><td>1577.21</td><td>2</td><td>Rio de Janeiro</td><td>Pix</td></tr><tr><td>278</td><td>2025-01-22</td><td>Impressora</td><td>Periféricos</td><td>2719.61</td><td>4</td><td>São Paulo</td><td>Boleto</td></tr><tr><td>279</td><td>2025-01-31</td><td>Impressora</td><td>Periféricos</td><td>4075.02</td><td>4</td><td>Curitiba</td><td>Transferência</td></tr><tr><td>280</td><td>2024-11-19</td><td>Headset</td><td>Acessórios</td><td>1723.04</td><td>1</td><td>Belo Horizonte</td><td>Transferência</td></tr><tr><td>281</td><td>2024-07-31</td><td>Headset</td><td>Acessórios</td><td>310.7</td><td>1</td><td>Porto Alegre</td><td>Pix</td></tr><tr><td>282</td><td>2024-08-24</td><td>Monitor</td><td>Eletrônicos</td><td>4346.34</td><td>5</td><td>Porto Alegre</td><td>Cartão de Crédito</td></tr><tr><td>283</td><td>2024-09-01</td><td>Mouse</td><td>Acessórios</td><td>2721.42</td><td>3</td><td>Curitiba</td><td>Transferência</td></tr><tr><td>284</td><td>2025-03-28</td><td>Mouse</td><td>Acessórios</td><td>3528.29</td><td>4</td><td>Recife</td><td>Cartão de Crédito</td></tr><tr><td>285</td><td>2024-12-05</td><td>Impressora</td><td>Periféricos</td><td>129.76</td><td>3</td><td>Recife</td><td>Cartão de Crédito</td></tr><tr><td>286</td><td>2024-11-29</td><td>Teclado</td><td>Acessórios</td><td>4279.57</td><td>1</td><td>Porto Alegre</td><td>Transferência</td></tr><tr><td>287</td><td>2025-04-08</td><td>Notebook</td><td>Eletrônicos</td><td>3805.96</td><td>4</td><td>Belo Horizonte</td><td>Pix</td></tr><tr><td>288</td><td>2025-01-19</td><td>Mouse</td><td>Acessórios</td><td>3505.67</td><td>5</td><td>Rio de Janeiro</td><td>Cartão de Crédito</td></tr><tr><td>289</td><td>2025-02-18</td><td>Notebook</td><td>Eletrônicos</td><td>3872.43</td><td>4</td><td>Curitiba</td><td>Transferência</td></tr><tr><td>290</td><td>2024-07-31</td><td>Notebook</td><td>Eletrônicos</td><td>3746.68</td><td>1</td><td>Curitiba</td><td>Cartão de Crédito</td></tr><tr><td>291</td><td>2025-04-29</td><td>Notebook</td><td>Eletrônicos</td><td>2962.36</td><td>4</td><td>Rio de Janeiro</td><td>Pix</td></tr><tr><td>292</td><td>2024-09-08</td><td>Headset</td><td>Acessórios</td><td>4948.65</td><td>2</td><td>Rio de Janeiro</td><td>Transferência</td></tr><tr><td>293</td><td>2025-02-28</td><td>Teclado</td><td>Acessórios</td><td>4025.62</td><td>1</td><td>Curitiba</td><td>Pix</td></tr><tr><td>294</td><td>2024-11-29</td><td>Monitor</td><td>Eletrônicos</td><td>253.95</td><td>1</td><td>São Paulo</td><td>Pix</td></tr><tr><td>295</td><td>2024-09-03</td><td>Mouse</td><td>Acessórios</td><td>1434.22</td><td>3</td><td>Recife</td><td>Boleto</td></tr><tr><td>296</td><td>2025-01-24</td><td>Impressora</td><td>Periféricos</td><td>4985.28</td><td>1</td><td>São Paulo</td><td>Cartão de Crédito</td></tr><tr><td>297</td><td>2025-03-14</td><td>Impressora</td><td>Periféricos</td><td>2638.89</td><td>5</td><td>São Paulo</td><td>Cartão de Crédito</td></tr><tr><td>298</td><td>2024-08-27</td><td>Notebook</td><td>Eletrônicos</td><td>302.79</td><td>4</td><td>Rio de Janeiro</td><td>Cartão de Crédito</td></tr><tr><td>299</td><td>2025-04-26</td><td>Teclado</td><td>Acessórios</td><td>499.22</td><td>1</td><td>São Paulo</td><td>Pix</td></tr><tr><td>300</td><td>2025-01-28</td><td>Headset</td><td>Acessórios</td><td>306.88</td><td>2</td><td>Belo Horizonte</td><td>Transferência</td></tr><tr><td>301</td><td>2024-12-19</td><td>Monitor</td><td>Eletrônicos</td><td>4855.58</td><td>5</td><td>Curitiba</td><td>Pix</td></tr><tr><td>302</td><td>2024-11-17</td><td>Notebook</td><td>Eletrônicos</td><td>4347.83</td><td>2</td><td>Rio de Janeiro</td><td>Boleto</td></tr><tr><td>303</td><td>2025-02-04</td><td>Monitor</td><td>Eletrônicos</td><td>2779.32</td><td>3</td><td>Rio de Janeiro</td><td>Cartão de Crédito</td></tr><tr><td>304</td><td>2025-01-25</td><td>Mouse</td><td>Acessórios</td><td>4550.44</td><td>4</td><td>Belo Horizonte</td><td>Cartão de Crédito</td></tr><tr><td>305</td><td>2025-01-08</td><td>Notebook</td><td>Eletrônicos</td><td>2516.34</td><td>1</td><td>Rio de Janeiro</td><td>Pix</td></tr><tr><td>306</td><td>2024-10-21</td><td>Teclado</td><td>Acessórios</td><td>3684.27</td><td>3</td><td>Curitiba</td><td>Cartão de Crédito</td></tr><tr><td>307</td><td>2025-03-31</td><td>Headset</td><td>Acessórios</td><td>2551.71</td><td>4</td><td>Recife</td><td>Cartão de Crédito</td></tr><tr><td>308</td><td>2025-01-23</td><td>Monitor</td><td>Eletrônicos</td><td>735.66</td><td>3</td><td>Porto Alegre</td><td>Pix</td></tr><tr><td>309</td><td>2024-11-02</td><td>Mouse</td><td>Acessórios</td><td>395.01</td><td>5</td><td>São Paulo</td><td>Pix</td></tr><tr><td>310</td><td>2024-08-12</td><td>Impressora</td><td>Periféricos</td><td>2085.39</td><td>4</td><td>Belo Horizonte</td><td>Transferência</td></tr><tr><td>311</td><td>2024-08-03</td><td>Headset</td><td>Acessórios</td><td>3595.49</td><td>2</td><td>Rio de Janeiro</td><td>Cartão de Crédito</td></tr><tr><td>312</td><td>2024-06-19</td><td>Notebook</td><td>Eletrônicos</td><td>4212.46</td><td>1</td><td>Belo Horizonte</td><td>Transferência</td></tr><tr><td>313</td><td>2024-07-11</td><td>Teclado</td><td>Acessórios</td><td>4782.6</td><td>2</td><td>Recife</td><td>Pix</td></tr><tr><td>314</td><td>2024-12-05</td><td>Mouse</td><td>Acessórios</td><td>3715.02</td><td>1</td><td>Rio de Janeiro</td><td>Cartão de Crédito</td></tr><tr><td>315</td><td>2024-11-18</td><td>Impressora</td><td>Periféricos</td><td>3879.53</td><td>4</td><td>Curitiba</td><td>Cartão de Crédito</td></tr><tr><td>316</td><td>2025-03-14</td><td>Mouse</td><td>Acessórios</td><td>2925.14</td><td>4</td><td>São Paulo</td><td>Cartão de Crédito</td></tr><tr><td>317</td><td>2024-07-20</td><td>Notebook</td><td>Eletrônicos</td><td>2137.03</td><td>3</td><td>São Paulo</td><td>Transferência</td></tr><tr><td>318</td><td>2024-06-01</td><td>Mouse</td><td>Acessórios</td><td>2314.5</td><td>4</td><td>Curitiba</td><td>Cartão de Crédito</td></tr><tr><td>319</td><td>2024-10-27</td><td>Mouse</td><td>Acessórios</td><td>449.66</td><td>4</td><td>Porto Alegre</td><td>Pix</td></tr><tr><td>320</td><td>2024-07-28</td><td>Impressora</td><td>Periféricos</td><td>891.51</td><td>5</td><td>Curitiba</td><td>Boleto</td></tr><tr><td>321</td><td>2024-06-27</td><td>Teclado</td><td>Acessórios</td><td>4641.92</td><td>4</td><td>Curitiba</td><td>Boleto</td></tr><tr><td>322</td><td>2024-09-06</td><td>Mouse</td><td>Acessórios</td><td>3195.69</td><td>1</td><td>Belo Horizonte</td><td>Transferência</td></tr><tr><td>323</td><td>2025-02-23</td><td>Mouse</td><td>Acessórios</td><td>4722.06</td><td>5</td><td>Belo Horizonte</td><td>Boleto</td></tr><tr><td>324</td><td>2024-08-09</td><td>Monitor</td><td>Eletrônicos</td><td>1998.66</td><td>2</td><td>Curitiba</td><td>Pix</td></tr><tr><td>325</td><td>2025-05-05</td><td>Notebook</td><td>Eletrônicos</td><td>968.83</td><td>4</td><td>Curitiba</td><td>Pix</td></tr><tr><td>326</td><td>2024-06-09</td><td>Impressora</td><td>Periféricos</td><td>2991.55</td><td>3</td><td>São Paulo</td><td>Boleto</td></tr><tr><td>327</td><td>2025-04-02</td><td>Headset</td><td>Acessórios</td><td>3817.19</td><td>3</td><td>Porto Alegre</td><td>Boleto</td></tr><tr><td>328</td><td>2024-05-29</td><td>Impressora</td><td>Periféricos</td><td>3418.29</td><td>4</td><td>Belo Horizonte</td><td>Transferência</td></tr><tr><td>329</td><td>2025-01-26</td><td>Impressora</td><td>Periféricos</td><td>2388.3</td><td>5</td><td>Curitiba</td><td>Transferência</td></tr><tr><td>330</td><td>2024-10-01</td><td>Impressora</td><td>Periféricos</td><td>3653.21</td><td>1</td><td>Curitiba</td><td>Cartão de Crédito</td></tr><tr><td>331</td><td>2024-06-02</td><td>Impressora</td><td>Periféricos</td><td>1892.94</td><td>4</td><td>Porto Alegre</td><td>Boleto</td></tr><tr><td>332</td><td>2024-06-08</td><td>Teclado</td><td>Acessórios</td><td>3537.13</td><td>5</td><td>Porto Alegre</td><td>Pix</td></tr><tr><td>333</td><td>2025-03-14</td><td>Mouse</td><td>Acessórios</td><td>4261.02</td><td>3</td><td>Curitiba</td><td>Cartão de Crédito</td></tr><tr><td>334</td><td>2025-05-06</td><td>Notebook</td><td>Eletrônicos</td><td>1364.44</td><td>5</td><td>Recife</td><td>Boleto</td></tr><tr><td>335</td><td>2024-12-10</td><td>Impressora</td><td>Periféricos</td><td>1969.22</td><td>1</td><td>Porto Alegre</td><td>Cartão de Crédito</td></tr><tr><td>336</td><td>2025-03-16</td><td>Teclado</td><td>Acessórios</td><td>4087.59</td><td>5</td><td>Recife</td><td>Cartão de Crédito</td></tr><tr><td>337</td><td>2025-01-15</td><td>Monitor</td><td>Eletrônicos</td><td>3503.58</td><td>4</td><td>Curitiba</td><td>Transferência</td></tr><tr><td>338</td><td>2024-09-13</td><td>Impressora</td><td>Periféricos</td><td>3010.87</td><td>2</td><td>Porto Alegre</td><td>Cartão de Crédito</td></tr><tr><td>339</td><td>2025-05-04</td><td>Headset</td><td>Acessórios</td><td>3729.7</td><td>5</td><td>Recife</td><td>Transferência</td></tr><tr><td>340</td><td>2025-01-06</td><td>Headset</td><td>Acessórios</td><td>4621.08</td><td>3</td><td>Porto Alegre</td><td>Transferência</td></tr><tr><td>341</td><td>2024-12-30</td><td>Teclado</td><td>Acessórios</td><td>2637.95</td><td>1</td><td>Curitiba</td><td>Transferência</td></tr><tr><td>342</td><td>2025-02-06</td><td>Headset</td><td>Acessórios</td><td>272.04</td><td>2</td><td>São Paulo</td><td>Cartão de Crédito</td></tr><tr><td>343</td><td>2024-08-25</td><td>Headset</td><td>Acessórios</td><td>2906.12</td><td>2</td><td>Recife</td><td>Cartão de Crédito</td></tr><tr><td>344</td><td>2025-04-10</td><td>Notebook</td><td>Eletrônicos</td><td>1985.62</td><td>5</td><td>Porto Alegre</td><td>Pix</td></tr><tr><td>345</td><td>2025-05-04</td><td>Notebook</td><td>Eletrônicos</td><td>1811.64</td><td>2</td><td>Recife</td><td>Boleto</td></tr><tr><td>346</td><td>2025-01-12</td><td>Impressora</td><td>Periféricos</td><td>3426.47</td><td>3</td><td>Curitiba</td><td>Transferência</td></tr><tr><td>347</td><td>2025-02-15</td><td>Teclado</td><td>Acessórios</td><td>4813.91</td><td>4</td><td>São Paulo</td><td>Pix</td></tr><tr><td>348</td><td>2024-07-29</td><td>Headset</td><td>Acessórios</td><td>1251.96</td><td>2</td><td>São Paulo</td><td>Boleto</td></tr><tr><td>349</td><td>2024-10-20</td><td>Notebook</td><td>Eletrônicos</td><td>4103.17</td><td>1</td><td>Belo Horizonte</td><td>Transferência</td></tr><tr><td>350</td><td>2024-05-26</td><td>Monitor</td><td>Eletrônicos</td><td>4646.6</td><td>4</td><td>Belo Horizonte</td><td>Boleto</td></tr><tr><td>351</td><td>2024-11-24</td><td>Notebook</td><td>Eletrônicos</td><td>2990.57</td><td>4</td><td>Rio de Janeiro</td><td>Transferência</td></tr><tr><td>352</td><td>2025-03-31</td><td>Mouse</td><td>Acessórios</td><td>641.85</td><td>3</td><td>São Paulo</td><td>Cartão de Crédito</td></tr><tr><td>353</td><td>2024-06-11</td><td>Impressora</td><td>Periféricos</td><td>3287.89</td><td>3</td><td>Curitiba</td><td>Boleto</td></tr><tr><td>354</td><td>2025-01-05</td><td>Headset</td><td>Acessórios</td><td>1438.29</td><td>2</td><td>São Paulo</td><td>Cartão de Crédito</td></tr><tr><td>355</td><td>2024-07-09</td><td>Impressora</td><td>Periféricos</td><td>1665.12</td><td>4</td><td>Belo Horizonte</td><td>Boleto</td></tr><tr><td>356</td><td>2024-05-29</td><td>Teclado</td><td>Acessórios</td><td>2150.92</td><td>1</td><td>São Paulo</td><td>Pix</td></tr><tr><td>357</td><td>2024-12-12</td><td>Notebook</td><td>Eletrônicos</td><td>4552.43</td><td>2</td><td>Porto Alegre</td><td>Boleto</td></tr><tr><td>358</td><td>2025-05-21</td><td>Mouse</td><td>Acessórios</td><td>3962.44</td><td>3</td><td>Belo Horizonte</td><td>Cartão de Crédito</td></tr><tr><td>359</td><td>2024-10-21</td><td>Mouse</td><td>Acessórios</td><td>2672.27</td><td>2</td><td>Porto Alegre</td><td>Boleto</td></tr><tr><td>360</td><td>2025-01-06</td><td>Teclado</td><td>Acessórios</td><td>1423.26</td><td>1</td><td>Belo Horizonte</td><td>Boleto</td></tr><tr><td>361</td><td>2024-06-03</td><td>Impressora</td><td>Periféricos</td><td>3781.27</td><td>1</td><td>Curitiba</td><td>Pix</td></tr><tr><td>362</td><td>2024-08-05</td><td>Headset</td><td>Acessórios</td><td>2805.27</td><td>5</td><td>São Paulo</td><td>Boleto</td></tr><tr><td>363</td><td>2025-03-02</td><td>Monitor</td><td>Eletrônicos</td><td>1960.5</td><td>3</td><td>Curitiba</td><td>Pix</td></tr><tr><td>364</td><td>2025-04-17</td><td>Mouse</td><td>Acessórios</td><td>3008.83</td><td>3</td><td>Porto Alegre</td><td>Cartão de Crédito</td></tr><tr><td>365</td><td>2024-07-27</td><td>Mouse</td><td>Acessórios</td><td>4283.51</td><td>5</td><td>Porto Alegre</td><td>Pix</td></tr><tr><td>366</td><td>2024-12-15</td><td>Teclado</td><td>Acessórios</td><td>333.92</td><td>2</td><td>Recife</td><td>Transferência</td></tr><tr><td>367</td><td>2025-01-18</td><td>Notebook</td><td>Eletrônicos</td><td>806.82</td><td>2</td><td>Rio de Janeiro</td><td>Transferência</td></tr><tr><td>368</td><td>2025-03-15</td><td>Monitor</td><td>Eletrônicos</td><td>2609.42</td><td>1</td><td>Rio de Janeiro</td><td>Boleto</td></tr><tr><td>369</td><td>2024-10-09</td><td>Notebook</td><td>Eletrônicos</td><td>4582.74</td><td>3</td><td>Curitiba</td><td>Boleto</td></tr><tr><td>370</td><td>2024-10-30</td><td>Notebook</td><td>Eletrônicos</td><td>4993.4</td><td>1</td><td>São Paulo</td><td>Transferência</td></tr><tr><td>371</td><td>2025-03-01</td><td>Teclado</td><td>Acessórios</td><td>1389.35</td><td>2</td><td>Porto Alegre</td><td>Pix</td></tr><tr><td>372</td><td>2025-03-21</td><td>Mouse</td><td>Acessórios</td><td>2601.22</td><td>5</td><td>Porto Alegre</td><td>Transferência</td></tr><tr><td>373</td><td>2025-01-11</td><td>Notebook</td><td>Eletrônicos</td><td>4630.31</td><td>2</td><td>Rio de Janeiro</td><td>Cartão de Crédito</td></tr><tr><td>374</td><td>2025-03-13</td><td>Teclado</td><td>Acessórios</td><td>3578.33</td><td>1</td><td>São Paulo</td><td>Boleto</td></tr><tr><td>375</td><td>2025-02-05</td><td>Headset</td><td>Acessórios</td><td>2387.64</td><td>3</td><td>São Paulo</td><td>Pix</td></tr><tr><td>376</td><td>2024-09-19</td><td>Impressora</td><td>Periféricos</td><td>1735.79</td><td>3</td><td>Recife</td><td>Cartão de Crédito</td></tr><tr><td>377</td><td>2024-07-24</td><td>Monitor</td><td>Eletrônicos</td><td>473.8</td><td>2</td><td>Rio de Janeiro</td><td>Transferência</td></tr><tr><td>378</td><td>2024-09-28</td><td>Headset</td><td>Acessórios</td><td>4034.21</td><td>2</td><td>São Paulo</td><td>Boleto</td></tr><tr><td>379</td><td>2025-05-07</td><td>Teclado</td><td>Acessórios</td><td>334.39</td><td>1</td><td>Porto Alegre</td><td>Transferência</td></tr><tr><td>380</td><td>2025-05-18</td><td>Teclado</td><td>Acessórios</td><td>1597.69</td><td>1</td><td>Rio de Janeiro</td><td>Boleto</td></tr><tr><td>381</td><td>2025-03-03</td><td>Teclado</td><td>Acessórios</td><td>739.72</td><td>2</td><td>Belo Horizonte</td><td>Cartão de Crédito</td></tr><tr><td>382</td><td>2025-05-01</td><td>Monitor</td><td>Eletrônicos</td><td>2761.22</td><td>1</td><td>Belo Horizonte</td><td>Transferência</td></tr><tr><td>383</td><td>2024-11-28</td><td>Impressora</td><td>Periféricos</td><td>2977.01</td><td>3</td><td>Porto Alegre</td><td>Boleto</td></tr><tr><td>384</td><td>2024-09-22</td><td>Headset</td><td>Acessórios</td><td>4244.56</td><td>3</td><td>Porto Alegre</td><td>Boleto</td></tr><tr><td>385</td><td>2024-10-05</td><td>Notebook</td><td>Eletrônicos</td><td>3058.63</td><td>5</td><td>Belo Horizonte</td><td>Cartão de Crédito</td></tr><tr><td>386</td><td>2024-08-23</td><td>Teclado</td><td>Acessórios</td><td>1094.07</td><td>2</td><td>Recife</td><td>Pix</td></tr><tr><td>387</td><td>2025-05-15</td><td>Monitor</td><td>Eletrônicos</td><td>1175.56</td><td>5</td><td>Recife</td><td>Cartão de Crédito</td></tr><tr><td>388</td><td>2024-08-07</td><td>Impressora</td><td>Periféricos</td><td>4393.91</td><td>1</td><td>Belo Horizonte</td><td>Transferência</td></tr><tr><td>389</td><td>2025-03-15</td><td>Mouse</td><td>Acessórios</td><td>1016.26</td><td>5</td><td>Porto Alegre</td><td>Transferência</td></tr><tr><td>390</td><td>2024-06-18</td><td>Monitor</td><td>Eletrônicos</td><td>2754.9</td><td>2</td><td>Belo Horizonte</td><td>Transferência</td></tr><tr><td>391</td><td>2024-07-04</td><td>Headset</td><td>Acessórios</td><td>849.96</td><td>4</td><td>Curitiba</td><td>Transferência</td></tr><tr><td>392</td><td>2024-07-16</td><td>Impressora</td><td>Periféricos</td><td>566.7</td><td>1</td><td>Belo Horizonte</td><td>Cartão de Crédito</td></tr><tr><td>393</td><td>2025-03-22</td><td>Monitor</td><td>Eletrônicos</td><td>544.5</td><td>3</td><td>Rio de Janeiro</td><td>Transferência</td></tr><tr><td>394</td><td>2024-07-19</td><td>Teclado</td><td>Acessórios</td><td>3094.5</td><td>2</td><td>Rio de Janeiro</td><td>Transferência</td></tr><tr><td>395</td><td>2025-02-16</td><td>Mouse</td><td>Acessórios</td><td>394.82</td><td>1</td><td>Porto Alegre</td><td>Pix</td></tr><tr><td>396</td><td>2024-12-06</td><td>Impressora</td><td>Periféricos</td><td>2031.4</td><td>5</td><td>Porto Alegre</td><td>Transferência</td></tr><tr><td>397</td><td>2024-09-05</td><td>Mouse</td><td>Acessórios</td><td>319.4</td><td>3</td><td>Porto Alegre</td><td>Boleto</td></tr><tr><td>398</td><td>2024-11-16</td><td>Notebook</td><td>Eletrônicos</td><td>1350.92</td><td>3</td><td>Belo Horizonte</td><td>Pix</td></tr><tr><td>399</td><td>2025-04-06</td><td>Impressora</td><td>Periféricos</td><td>2381.38</td><td>5</td><td>Belo Horizonte</td><td>Boleto</td></tr><tr><td>400</td><td>2025-01-16</td><td>Impressora</td><td>Periféricos</td><td>1642.86</td><td>2</td><td>Porto Alegre</td><td>Boleto</td></tr><tr><td>401</td><td>2024-07-17</td><td>Mouse</td><td>Acessórios</td><td>178.76</td><td>1</td><td>São Paulo</td><td>Pix</td></tr><tr><td>402</td><td>2024-05-27</td><td>Mouse</td><td>Acessórios</td><td>3369.44</td><td>1</td><td>Recife</td><td>Pix</td></tr><tr><td>403</td><td>2024-07-06</td><td>Monitor</td><td>Eletrônicos</td><td>3286.04</td><td>3</td><td>Rio de Janeiro</td><td>Boleto</td></tr><tr><td>404</td><td>2024-06-07</td><td>Mouse</td><td>Acessórios</td><td>1220.74</td><td>3</td><td>Porto Alegre</td><td>Cartão de Crédito</td></tr><tr><td>405</td><td>2025-03-11</td><td>Impressora</td><td>Periféricos</td><td>3543.54</td><td>1</td><td>Porto Alegre</td><td>Transferência</td></tr><tr><td>406</td><td>2024-12-15</td><td>Monitor</td><td>Eletrônicos</td><td>702.4</td><td>3</td><td>Rio de Janeiro</td><td>Transferência</td></tr><tr><td>407</td><td>2025-03-19</td><td>Teclado</td><td>Acessórios</td><td>1718.44</td><td>5</td><td>Recife</td><td>Transferência</td></tr><tr><td>408</td><td>2024-06-03</td><td>Impressora</td><td>Periféricos</td><td>4424.92</td><td>4</td><td>Porto Alegre</td><td>Cartão de Crédito</td></tr><tr><td>409</td><td>2024-10-24</td><td>Monitor</td><td>Eletrônicos</td><td>2878.38</td><td>2</td><td>Belo Horizonte</td><td>Cartão de Crédito</td></tr><tr><td>410</td><td>2025-01-26</td><td>Mouse</td><td>Acessórios</td><td>4734.35</td><td>2</td><td>Porto Alegre</td><td>Boleto</td></tr><tr><td>411</td><td>2024-12-20</td><td>Impressora</td><td>Periféricos</td><td>1587.53</td><td>5</td><td>Rio de Janeiro</td><td>Transferência</td></tr><tr><td>412</td><td>2024-11-22</td><td>Teclado</td><td>Acessórios</td><td>2743.97</td><td>5</td><td>Rio de Janeiro</td><td>Cartão de Crédito</td></tr><tr><td>413</td><td>2024-08-31</td><td>Mouse</td><td>Acessórios</td><td>3035.37</td><td>2</td><td>Porto Alegre</td><td>Transferência</td></tr><tr><td>414</td><td>2024-05-28</td><td>Impressora</td><td>Periféricos</td><td>4124.62</td><td>1</td><td>Recife</td><td>Pix</td></tr><tr><td>415</td><td>2024-06-03</td><td>Notebook</td><td>Eletrônicos</td><td>3116.68</td><td>2</td><td>Rio de Janeiro</td><td>Transferência</td></tr><tr><td>416</td><td>2024-06-24</td><td>Teclado</td><td>Acessórios</td><td>2230.9</td><td>1</td><td>Curitiba</td><td>Pix</td></tr><tr><td>417</td><td>2025-03-21</td><td>Notebook</td><td>Eletrônicos</td><td>4496.37</td><td>3</td><td>Belo Horizonte</td><td>Pix</td></tr><tr><td>418</td><td>2024-06-18</td><td>Headset</td><td>Acessórios</td><td>1069.53</td><td>4</td><td>São Paulo</td><td>Cartão de Crédito</td></tr><tr><td>419</td><td>2025-02-12</td><td>Teclado</td><td>Acessórios</td><td>3465.42</td><td>1</td><td>Belo Horizonte</td><td>Transferência</td></tr><tr><td>420</td><td>2025-04-08</td><td>Mouse</td><td>Acessórios</td><td>663.82</td><td>2</td><td>Belo Horizonte</td><td>Pix</td></tr><tr><td>421</td><td>2024-10-06</td><td>Notebook</td><td>Eletrônicos</td><td>2650.67</td><td>5</td><td>Belo Horizonte</td><td>Transferência</td></tr><tr><td>422</td><td>2025-04-25</td><td>Teclado</td><td>Acessórios</td><td>496.64</td><td>2</td><td>Porto Alegre</td><td>Cartão de Crédito</td></tr><tr><td>423</td><td>2025-04-27</td><td>Teclado</td><td>Acessórios</td><td>4431.53</td><td>5</td><td>Recife</td><td>Pix</td></tr><tr><td>424</td><td>2025-01-13</td><td>Notebook</td><td>Eletrônicos</td><td>4762.84</td><td>2</td><td>Curitiba</td><td>Boleto</td></tr><tr><td>425</td><td>2025-01-06</td><td>Monitor</td><td>Eletrônicos</td><td>3092.07</td><td>3</td><td>São Paulo</td><td>Cartão de Crédito</td></tr><tr><td>426</td><td>2024-09-15</td><td>Headset</td><td>Acessórios</td><td>1368.78</td><td>4</td><td>Rio de Janeiro</td><td>Cartão de Crédito</td></tr><tr><td>427</td><td>2024-07-12</td><td>Headset</td><td>Acessórios</td><td>496.46</td><td>2</td><td>Belo Horizonte</td><td>Cartão de Crédito</td></tr><tr><td>428</td><td>2025-03-18</td><td>Impressora</td><td>Periféricos</td><td>3839.0</td><td>2</td><td>Recife</td><td>Pix</td></tr><tr><td>429</td><td>2024-11-02</td><td>Mouse</td><td>Acessórios</td><td>2886.0</td><td>5</td><td>Belo Horizonte</td><td>Boleto</td></tr><tr><td>430</td><td>2025-01-12</td><td>Impressora</td><td>Periféricos</td><td>1068.47</td><td>4</td><td>São Paulo</td><td>Cartão de Crédito</td></tr><tr><td>431</td><td>2024-07-06</td><td>Mouse</td><td>Acessórios</td><td>2965.95</td><td>3</td><td>Porto Alegre</td><td>Transferência</td></tr><tr><td>432</td><td>2024-07-27</td><td>Impressora</td><td>Periféricos</td><td>4656.1</td><td>4</td><td>Porto Alegre</td><td>Transferência</td></tr><tr><td>433</td><td>2025-01-22</td><td>Monitor</td><td>Eletrônicos</td><td>2734.38</td><td>5</td><td>Rio de Janeiro</td><td>Pix</td></tr><tr><td>434</td><td>2025-03-24</td><td>Headset</td><td>Acessórios</td><td>2835.2</td><td>2</td><td>São Paulo</td><td>Cartão de Crédito</td></tr><tr><td>435</td><td>2024-09-12</td><td>Impressora</td><td>Periféricos</td><td>1928.37</td><td>3</td><td>Curitiba</td><td>Cartão de Crédito</td></tr><tr><td>436</td><td>2024-09-06</td><td>Teclado</td><td>Acessórios</td><td>4109.71</td><td>2</td><td>Porto Alegre</td><td>Cartão de Crédito</td></tr><tr><td>437</td><td>2025-02-14</td><td>Headset</td><td>Acessórios</td><td>868.78</td><td>4</td><td>Belo Horizonte</td><td>Pix</td></tr><tr><td>438</td><td>2025-02-02</td><td>Teclado</td><td>Acessórios</td><td>900.35</td><td>2</td><td>Belo Horizonte</td><td>Transferência</td></tr><tr><td>439</td><td>2024-10-10</td><td>Notebook</td><td>Eletrônicos</td><td>3510.36</td><td>1</td><td>Rio de Janeiro</td><td>Pix</td></tr><tr><td>440</td><td>2025-02-22</td><td>Mouse</td><td>Acessórios</td><td>2386.34</td><td>3</td><td>Rio de Janeiro</td><td>Cartão de Crédito</td></tr><tr><td>441</td><td>2024-12-21</td><td>Impressora</td><td>Periféricos</td><td>4125.07</td><td>4</td><td>Curitiba</td><td>Pix</td></tr><tr><td>442</td><td>2024-10-24</td><td>Notebook</td><td>Eletrônicos</td><td>1902.56</td><td>4</td><td>Porto Alegre</td><td>Cartão de Crédito</td></tr><tr><td>443</td><td>2025-04-01</td><td>Mouse</td><td>Acessórios</td><td>3502.37</td><td>5</td><td>Rio de Janeiro</td><td>Pix</td></tr><tr><td>444</td><td>2024-12-29</td><td>Headset</td><td>Acessórios</td><td>1811.83</td><td>4</td><td>Porto Alegre</td><td>Transferência</td></tr><tr><td>445</td><td>2025-01-22</td><td>Monitor</td><td>Eletrônicos</td><td>4280.27</td><td>2</td><td>Belo Horizonte</td><td>Boleto</td></tr><tr><td>446</td><td>2024-08-26</td><td>Headset</td><td>Acessórios</td><td>4566.32</td><td>3</td><td>Porto Alegre</td><td>Boleto</td></tr><tr><td>447</td><td>2024-07-05</td><td>Notebook</td><td>Eletrônicos</td><td>1568.99</td><td>5</td><td>Curitiba</td><td>Cartão de Crédito</td></tr><tr><td>448</td><td>2024-09-13</td><td>Impressora</td><td>Periféricos</td><td>945.85</td><td>1</td><td>Belo Horizonte</td><td>Transferência</td></tr><tr><td>449</td><td>2025-01-04</td><td>Notebook</td><td>Eletrônicos</td><td>527.56</td><td>3</td><td>Rio de Janeiro</td><td>Pix</td></tr><tr><td>450</td><td>2024-09-15</td><td>Monitor</td><td>Eletrônicos</td><td>1449.58</td><td>1</td><td>Belo Horizonte</td><td>Boleto</td></tr><tr><td>451</td><td>2024-06-28</td><td>Monitor</td><td>Eletrônicos</td><td>649.94</td><td>4</td><td>Recife</td><td>Transferência</td></tr><tr><td>452</td><td>2025-01-11</td><td>Headset</td><td>Acessórios</td><td>1045.31</td><td>5</td><td>Curitiba</td><td>Transferência</td></tr><tr><td>453</td><td>2024-07-27</td><td>Notebook</td><td>Eletrônicos</td><td>1765.81</td><td>2</td><td>Porto Alegre</td><td>Boleto</td></tr><tr><td>454</td><td>2024-09-10</td><td>Mouse</td><td>Acessórios</td><td>4334.24</td><td>1</td><td>Belo Horizonte</td><td>Boleto</td></tr><tr><td>455</td><td>2024-06-05</td><td>Headset</td><td>Acessórios</td><td>3755.35</td><td>5</td><td>Rio de Janeiro</td><td>Transferência</td></tr><tr><td>456</td><td>2025-03-10</td><td>Monitor</td><td>Eletrônicos</td><td>2662.64</td><td>4</td><td>Porto Alegre</td><td>Transferência</td></tr><tr><td>457</td><td>2024-09-14</td><td>Mouse</td><td>Acessórios</td><td>1066.55</td><td>5</td><td>Rio de Janeiro</td><td>Cartão de Crédito</td></tr><tr><td>458</td><td>2025-02-13</td><td>Headset</td><td>Acessórios</td><td>2237.29</td><td>4</td><td>Curitiba</td><td>Boleto</td></tr><tr><td>459</td><td>2024-10-06</td><td>Impressora</td><td>Periféricos</td><td>4694.32</td><td>4</td><td>Recife</td><td>Cartão de Crédito</td></tr><tr><td>460</td><td>2025-03-11</td><td>Headset</td><td>Acessórios</td><td>3473.64</td><td>1</td><td>Belo Horizonte</td><td>Transferência</td></tr><tr><td>461</td><td>2025-04-05</td><td>Headset</td><td>Acessórios</td><td>542.63</td><td>4</td><td>São Paulo</td><td>Transferência</td></tr><tr><td>462</td><td>2025-04-14</td><td>Headset</td><td>Acessórios</td><td>4913.45</td><td>3</td><td>Belo Horizonte</td><td>Transferência</td></tr><tr><td>463</td><td>2024-12-13</td><td>Headset</td><td>Acessórios</td><td>3150.38</td><td>1</td><td>Rio de Janeiro</td><td>Cartão de Crédito</td></tr><tr><td>464</td><td>2024-11-23</td><td>Monitor</td><td>Eletrônicos</td><td>1001.25</td><td>2</td><td>Recife</td><td>Transferência</td></tr><tr><td>465</td><td>2024-08-20</td><td>Notebook</td><td>Eletrônicos</td><td>3175.67</td><td>3</td><td>Curitiba</td><td>Cartão de Crédito</td></tr><tr><td>466</td><td>2024-08-07</td><td>Monitor</td><td>Eletrônicos</td><td>2212.11</td><td>2</td><td>São Paulo</td><td>Boleto</td></tr><tr><td>467</td><td>2024-10-25</td><td>Teclado</td><td>Acessórios</td><td>2798.25</td><td>2</td><td>Belo Horizonte</td><td>Transferência</td></tr><tr><td>468</td><td>2025-03-10</td><td>Headset</td><td>Acessórios</td><td>1860.27</td><td>1</td><td>Recife</td><td>Pix</td></tr><tr><td>469</td><td>2024-10-15</td><td>Monitor</td><td>Eletrônicos</td><td>1091.18</td><td>4</td><td>Belo Horizonte</td><td>Cartão de Crédito</td></tr><tr><td>470</td><td>2025-04-04</td><td>Notebook</td><td>Eletrônicos</td><td>1125.76</td><td>4</td><td>Curitiba</td><td>Transferência</td></tr><tr><td>471</td><td>2024-10-11</td><td>Mouse</td><td>Acessórios</td><td>2357.0</td><td>1</td><td>Rio de Janeiro</td><td>Pix</td></tr><tr><td>472</td><td>2024-12-06</td><td>Teclado</td><td>Acessórios</td><td>757.67</td><td>3</td><td>Rio de Janeiro</td><td>Boleto</td></tr><tr><td>473</td><td>2024-11-16</td><td>Teclado</td><td>Acessórios</td><td>2221.38</td><td>4</td><td>Belo Horizonte</td><td>Boleto</td></tr><tr><td>474</td><td>2024-08-12</td><td>Mouse</td><td>Acessórios</td><td>3851.9</td><td>5</td><td>Recife</td><td>Boleto</td></tr><tr><td>475</td><td>2024-10-20</td><td>Notebook</td><td>Eletrônicos</td><td>2754.02</td><td>1</td><td>Rio de Janeiro</td><td>Boleto</td></tr><tr><td>476</td><td>2024-11-03</td><td>Teclado</td><td>Acessórios</td><td>1072.08</td><td>2</td><td>Curitiba</td><td>Transferência</td></tr><tr><td>477</td><td>2024-11-13</td><td>Impressora</td><td>Periféricos</td><td>2804.45</td><td>1</td><td>Curitiba</td><td>Cartão de Crédito</td></tr><tr><td>478</td><td>2024-06-24</td><td>Monitor</td><td>Eletrônicos</td><td>4137.49</td><td>3</td><td>São Paulo</td><td>Cartão de Crédito</td></tr><tr><td>479</td><td>2025-03-10</td><td>Monitor</td><td>Eletrônicos</td><td>410.48</td><td>1</td><td>Curitiba</td><td>Cartão de Crédito</td></tr><tr><td>480</td><td>2025-03-19</td><td>Mouse</td><td>Acessórios</td><td>4955.96</td><td>4</td><td>Recife</td><td>Boleto</td></tr><tr><td>481</td><td>2025-05-01</td><td>Mouse</td><td>Acessórios</td><td>652.1</td><td>4</td><td>Recife</td><td>Cartão de Crédito</td></tr><tr><td>482</td><td>2025-04-01</td><td>Monitor</td><td>Eletrônicos</td><td>794.41</td><td>4</td><td>Recife</td><td>Transferência</td></tr><tr><td>483</td><td>2025-04-28</td><td>Notebook</td><td>Eletrônicos</td><td>3707.02</td><td>5</td><td>Recife</td><td>Cartão de Crédito</td></tr><tr><td>484</td><td>2025-02-17</td><td>Teclado</td><td>Acessórios</td><td>1621.01</td><td>3</td><td>Rio de Janeiro</td><td>Pix</td></tr><tr><td>485</td><td>2025-04-09</td><td>Impressora</td><td>Periféricos</td><td>2526.69</td><td>5</td><td>Porto Alegre</td><td>Transferência</td></tr><tr><td>486</td><td>2025-05-15</td><td>Notebook</td><td>Eletrônicos</td><td>3741.63</td><td>3</td><td>São Paulo</td><td>Boleto</td></tr><tr><td>487</td><td>2024-07-10</td><td>Impressora</td><td>Periféricos</td><td>608.28</td><td>4</td><td>Recife</td><td>Pix</td></tr><tr><td>488</td><td>2024-06-24</td><td>Headset</td><td>Acessórios</td><td>167.99</td><td>2</td><td>Curitiba</td><td>Transferência</td></tr><tr><td>489</td><td>2024-12-14</td><td>Mouse</td><td>Acessórios</td><td>785.67</td><td>3</td><td>São Paulo</td><td>Cartão de Crédito</td></tr><tr><td>490</td><td>2024-08-03</td><td>Notebook</td><td>Eletrônicos</td><td>2991.36</td><td>5</td><td>Porto Alegre</td><td>Boleto</td></tr><tr><td>491</td><td>2025-03-06</td><td>Mouse</td><td>Acessórios</td><td>4709.96</td><td>3</td><td>Curitiba</td><td>Transferência</td></tr><tr><td>492</td><td>2024-07-12</td><td>Notebook</td><td>Eletrônicos</td><td>3414.15</td><td>4</td><td>Rio de Janeiro</td><td>Pix</td></tr><tr><td>493</td><td>2025-02-15</td><td>Headset</td><td>Acessórios</td><td>3749.38</td><td>3</td><td>Recife</td><td>Transferência</td></tr><tr><td>494</td><td>2025-01-23</td><td>Headset</td><td>Acessórios</td><td>1486.97</td><td>4</td><td>Curitiba</td><td>Cartão de Crédito</td></tr><tr><td>495</td><td>2024-12-21</td><td>Headset</td><td>Acessórios</td><td>2802.04</td><td>1</td><td>Curitiba</td><td>Cartão de Crédito</td></tr><tr><td>496</td><td>2024-09-08</td><td>Notebook</td><td>Eletrônicos</td><td>2360.75</td><td>1</td><td>São Paulo</td><td>Boleto</td></tr><tr><td>497</td><td>2025-03-29</td><td>Monitor</td><td>Eletrônicos</td><td>979.32</td><td>2</td><td>Recife</td><td>Cartão de Crédito</td></tr><tr><td>498</td><td>2024-10-18</td><td>Impressora</td><td>Periféricos</td><td>4157.28</td><td>5</td><td>Porto Alegre</td><td>Cartão de Crédito</td></tr><tr><td>499</td><td>2025-01-25</td><td>Impressora</td><td>Periféricos</td><td>1320.55</td><td>2</td><td>Recife</td><td>Pix</td></tr><tr><td>500</td><td>2024-08-01</td><td>Impressora</td><td>Periféricos</td><td>1293.55</td><td>3</td><td>São Paulo</td><td>Transferência</td></tr></tbody></table></div>"
      ]
     },
     "metadata": {
      "application/vnd.databricks.v1+output": {
       "addedWidgets": {},
       "aggData": [],
       "aggError": "",
       "aggOverflow": false,
       "aggSchema": [],
       "aggSeriesLimitReached": false,
       "aggType": "",
       "arguments": {},
       "columnCustomDisplayInfos": {},
       "data": [
        [
         1,
         "2024-12-25",
         "Monitor",
         "Eletrônicos",
         3904.37,
         5,
         "São Paulo",
         "Pix"
        ],
        [
         2,
         "2025-04-08",
         "Monitor",
         "Eletrônicos",
         2926.19,
         4,
         "Porto Alegre",
         "Pix"
        ],
        [
         3,
         "2024-09-30",
         "Mouse",
         "Acessórios",
         3725.78,
         2,
         "Belo Horizonte",
         "Boleto"
        ],
        [
         4,
         "2025-03-31",
         "Notebook",
         "Eletrônicos",
         839.89,
         5,
         "Curitiba",
         "Pix"
        ],
        [
         5,
         "2025-01-03",
         "Impressora",
         "Periféricos",
         3742.63,
         1,
         "Porto Alegre",
         "Transferência"
        ],
        [
         6,
         "2024-10-23",
         "Notebook",
         "Eletrônicos",
         3931.19,
         1,
         "Curitiba",
         "Transferência"
        ],
        [
         7,
         "2024-11-19",
         "Teclado",
         "Acessórios",
         645.32,
         3,
         "São Paulo",
         "Boleto"
        ],
        [
         8,
         "2025-05-25",
         "Headset",
         "Acessórios",
         2596.31,
         2,
         "Belo Horizonte",
         "Cartão de Crédito"
        ],
        [
         9,
         "2025-04-21",
         "Mouse",
         "Acessórios",
         632.61,
         3,
         "Rio de Janeiro",
         "Boleto"
        ],
        [
         10,
         "2024-12-04",
         "Headset",
         "Acessórios",
         1470.95,
         5,
         "Recife",
         "Transferência"
        ],
        [
         11,
         "2024-11-21",
         "Monitor",
         "Eletrônicos",
         1736.76,
         5,
         "Rio de Janeiro",
         "Transferência"
        ],
        [
         12,
         "2024-11-23",
         "Headset",
         "Acessórios",
         4691.8,
         4,
         "São Paulo",
         "Pix"
        ],
        [
         13,
         "2025-01-13",
         "Impressora",
         "Periféricos",
         3035.7,
         1,
         "São Paulo",
         "Boleto"
        ],
        [
         14,
         "2025-01-12",
         "Teclado",
         "Acessórios",
         1107.19,
         5,
         "São Paulo",
         "Boleto"
        ],
        [
         15,
         "2024-10-09",
         "Impressora",
         "Periféricos",
         2937.09,
         2,
         "Porto Alegre",
         "Pix"
        ],
        [
         16,
         "2024-07-28",
         "Mouse",
         "Acessórios",
         3740.81,
         1,
         "Rio de Janeiro",
         "Boleto"
        ],
        [
         17,
         "2025-01-14",
         "Notebook",
         "Eletrônicos",
         4797.12,
         4,
         "Belo Horizonte",
         "Cartão de Crédito"
        ],
        [
         18,
         "2024-06-21",
         "Notebook",
         "Eletrônicos",
         1126.3,
         4,
         "Porto Alegre",
         "Pix"
        ],
        [
         19,
         "2024-08-24",
         "Notebook",
         "Eletrônicos",
         315.93,
         5,
         "Recife",
         "Transferência"
        ],
        [
         20,
         "2024-11-29",
         "Mouse",
         "Acessórios",
         1113.32,
         3,
         "Porto Alegre",
         "Boleto"
        ],
        [
         21,
         "2025-01-19",
         "Impressora",
         "Periféricos",
         4374.54,
         1,
         "Porto Alegre",
         "Pix"
        ],
        [
         22,
         "2024-09-18",
         "Notebook",
         "Eletrônicos",
         3760.27,
         4,
         "Recife",
         "Transferência"
        ],
        [
         23,
         "2024-07-30",
         "Notebook",
         "Eletrônicos",
         1513.08,
         2,
         "Belo Horizonte",
         "Transferência"
        ],
        [
         24,
         "2025-05-11",
         "Monitor",
         "Eletrônicos",
         4355.82,
         5,
         "Recife",
         "Boleto"
        ],
        [
         25,
         "2024-06-04",
         "Impressora",
         "Periféricos",
         1081.88,
         4,
         "São Paulo",
         "Transferência"
        ],
        [
         26,
         "2024-12-02",
         "Headset",
         "Acessórios",
         2984.39,
         5,
         "São Paulo",
         "Cartão de Crédito"
        ],
        [
         27,
         "2024-08-29",
         "Impressora",
         "Periféricos",
         3548.98,
         3,
         "Porto Alegre",
         "Pix"
        ],
        [
         28,
         "2024-11-07",
         "Mouse",
         "Acessórios",
         4274.26,
         2,
         "Curitiba",
         "Cartão de Crédito"
        ],
        [
         29,
         "2024-08-04",
         "Impressora",
         "Periféricos",
         3695.24,
         4,
         "Belo Horizonte",
         "Boleto"
        ],
        [
         30,
         "2024-10-12",
         "Impressora",
         "Periféricos",
         1532.97,
         2,
         "São Paulo",
         "Cartão de Crédito"
        ],
        [
         31,
         "2025-04-29",
         "Headset",
         "Acessórios",
         4193.69,
         4,
         "Curitiba",
         "Boleto"
        ],
        [
         32,
         "2024-12-20",
         "Impressora",
         "Periféricos",
         2058.16,
         4,
         "Belo Horizonte",
         "Pix"
        ],
        [
         33,
         "2024-07-06",
         "Mouse",
         "Acessórios",
         2585.79,
         5,
         "Rio de Janeiro",
         "Pix"
        ],
        [
         34,
         "2024-09-25",
         "Headset",
         "Acessórios",
         4829.5,
         4,
         "Rio de Janeiro",
         "Cartão de Crédito"
        ],
        [
         35,
         "2024-06-29",
         "Impressora",
         "Periféricos",
         3917.39,
         1,
         "Rio de Janeiro",
         "Transferência"
        ],
        [
         36,
         "2025-05-09",
         "Headset",
         "Acessórios",
         1670.52,
         2,
         "Belo Horizonte",
         "Boleto"
        ],
        [
         37,
         "2025-05-07",
         "Teclado",
         "Acessórios",
         394.95,
         5,
         "Rio de Janeiro",
         "Pix"
        ],
        [
         38,
         "2024-11-17",
         "Headset",
         "Acessórios",
         3473.21,
         2,
         "São Paulo",
         "Transferência"
        ],
        [
         39,
         "2024-09-02",
         "Monitor",
         "Eletrônicos",
         4039.71,
         4,
         "Curitiba",
         "Boleto"
        ],
        [
         40,
         "2025-05-22",
         "Mouse",
         "Acessórios",
         2728.35,
         5,
         "Belo Horizonte",
         "Transferência"
        ],
        [
         41,
         "2024-09-28",
         "Monitor",
         "Eletrônicos",
         129.95,
         3,
         "São Paulo",
         "Pix"
        ],
        [
         42,
         "2024-08-24",
         "Impressora",
         "Periféricos",
         2242.77,
         1,
         "Recife",
         "Cartão de Crédito"
        ],
        [
         43,
         "2025-05-23",
         "Mouse",
         "Acessórios",
         2647.13,
         5,
         "Curitiba",
         "Boleto"
        ],
        [
         44,
         "2024-09-14",
         "Headset",
         "Acessórios",
         1142.32,
         5,
         "Recife",
         "Boleto"
        ],
        [
         45,
         "2025-03-26",
         "Teclado",
         "Acessórios",
         4676.55,
         4,
         "Recife",
         "Boleto"
        ],
        [
         46,
         "2025-05-20",
         "Mouse",
         "Acessórios",
         2379.75,
         1,
         "São Paulo",
         "Cartão de Crédito"
        ],
        [
         47,
         "2024-08-21",
         "Mouse",
         "Acessórios",
         900.6,
         2,
         "São Paulo",
         "Transferência"
        ],
        [
         48,
         "2024-07-14",
         "Impressora",
         "Periféricos",
         2015.63,
         3,
         "Recife",
         "Boleto"
        ],
        [
         49,
         "2024-07-25",
         "Monitor",
         "Eletrônicos",
         4990.45,
         1,
         "São Paulo",
         "Pix"
        ],
        [
         50,
         "2024-07-17",
         "Notebook",
         "Eletrônicos",
         1903.43,
         2,
         "Recife",
         "Boleto"
        ],
        [
         51,
         "2024-08-14",
         "Impressora",
         "Periféricos",
         209.1,
         1,
         "Curitiba",
         "Cartão de Crédito"
        ],
        [
         52,
         "2025-01-16",
         "Mouse",
         "Acessórios",
         4450.97,
         4,
         "Recife",
         "Boleto"
        ],
        [
         53,
         "2024-09-17",
         "Monitor",
         "Eletrônicos",
         3158.72,
         3,
         "Curitiba",
         "Boleto"
        ],
        [
         54,
         "2024-11-24",
         "Notebook",
         "Eletrônicos",
         664.83,
         4,
         "Curitiba",
         "Transferência"
        ],
        [
         55,
         "2024-06-23",
         "Headset",
         "Acessórios",
         3893.49,
         2,
         "Recife",
         "Transferência"
        ],
        [
         56,
         "2024-08-11",
         "Headset",
         "Acessórios",
         1434.37,
         1,
         "Rio de Janeiro",
         "Cartão de Crédito"
        ],
        [
         57,
         "2024-10-22",
         "Monitor",
         "Eletrônicos",
         123.17,
         5,
         "Belo Horizonte",
         "Transferência"
        ],
        [
         58,
         "2024-11-09",
         "Monitor",
         "Eletrônicos",
         4461.71,
         2,
         "Belo Horizonte",
         "Transferência"
        ],
        [
         59,
         "2024-07-06",
         "Monitor",
         "Eletrônicos",
         179.3,
         3,
         "Rio de Janeiro",
         "Cartão de Crédito"
        ],
        [
         60,
         "2024-08-26",
         "Teclado",
         "Acessórios",
         4403.65,
         5,
         "São Paulo",
         "Pix"
        ],
        [
         61,
         "2024-05-29",
         "Mouse",
         "Acessórios",
         4992.5,
         5,
         "Porto Alegre",
         "Transferência"
        ],
        [
         62,
         "2025-03-23",
         "Teclado",
         "Acessórios",
         3763.56,
         1,
         "Curitiba",
         "Pix"
        ],
        [
         63,
         "2024-12-09",
         "Monitor",
         "Eletrônicos",
         3264.37,
         3,
         "Curitiba",
         "Boleto"
        ],
        [
         64,
         "2025-03-01",
         "Monitor",
         "Eletrônicos",
         2521.67,
         3,
         "Recife",
         "Pix"
        ],
        [
         65,
         "2024-11-25",
         "Headset",
         "Acessórios",
         2339.33,
         3,
         "Belo Horizonte",
         "Boleto"
        ],
        [
         66,
         "2025-04-29",
         "Impressora",
         "Periféricos",
         3643.91,
         5,
         "Belo Horizonte",
         "Cartão de Crédito"
        ],
        [
         67,
         "2024-06-29",
         "Teclado",
         "Acessórios",
         1999.38,
         3,
         "Belo Horizonte",
         "Transferência"
        ],
        [
         68,
         "2024-12-20",
         "Mouse",
         "Acessórios",
         2140.96,
         2,
         "Belo Horizonte",
         "Boleto"
        ],
        [
         69,
         "2024-10-14",
         "Notebook",
         "Eletrônicos",
         3867.69,
         2,
         "Curitiba",
         "Cartão de Crédito"
        ],
        [
         70,
         "2024-05-27",
         "Mouse",
         "Acessórios",
         433.31,
         2,
         "São Paulo",
         "Pix"
        ],
        [
         71,
         "2025-02-27",
         "Teclado",
         "Acessórios",
         4420.73,
         4,
         "Belo Horizonte",
         "Pix"
        ],
        [
         72,
         "2024-12-15",
         "Impressora",
         "Periféricos",
         3112.99,
         4,
         "Curitiba",
         "Boleto"
        ],
        [
         73,
         "2024-09-23",
         "Notebook",
         "Eletrônicos",
         3246.27,
         4,
         "Belo Horizonte",
         "Pix"
        ],
        [
         74,
         "2024-10-06",
         "Mouse",
         "Acessórios",
         2973.43,
         3,
         "Curitiba",
         "Boleto"
        ],
        [
         75,
         "2024-12-26",
         "Monitor",
         "Eletrônicos",
         3524.91,
         5,
         "Belo Horizonte",
         "Boleto"
        ],
        [
         76,
         "2024-10-30",
         "Mouse",
         "Acessórios",
         2435.35,
         1,
         "Belo Horizonte",
         "Pix"
        ],
        [
         77,
         "2024-10-02",
         "Monitor",
         "Eletrônicos",
         1733.38,
         3,
         "Curitiba",
         "Pix"
        ],
        [
         78,
         "2024-10-17",
         "Mouse",
         "Acessórios",
         842.76,
         3,
         "Curitiba",
         "Pix"
        ],
        [
         79,
         "2024-12-13",
         "Teclado",
         "Acessórios",
         2390.55,
         3,
         "Porto Alegre",
         "Pix"
        ],
        [
         80,
         "2024-12-01",
         "Teclado",
         "Acessórios",
         3651.16,
         3,
         "Recife",
         "Boleto"
        ],
        [
         81,
         "2024-09-11",
         "Impressora",
         "Periféricos",
         3778.71,
         4,
         "São Paulo",
         "Pix"
        ],
        [
         82,
         "2024-10-26",
         "Notebook",
         "Eletrônicos",
         3341.06,
         5,
         "Curitiba",
         "Transferência"
        ],
        [
         83,
         "2024-11-06",
         "Headset",
         "Acessórios",
         499.44,
         2,
         "São Paulo",
         "Boleto"
        ],
        [
         84,
         "2024-10-29",
         "Teclado",
         "Acessórios",
         4042.35,
         5,
         "Porto Alegre",
         "Pix"
        ],
        [
         85,
         "2024-06-20",
         "Monitor",
         "Eletrônicos",
         1954.36,
         5,
         "Curitiba",
         "Cartão de Crédito"
        ],
        [
         86,
         "2025-04-19",
         "Notebook",
         "Eletrônicos",
         4085.39,
         2,
         "Porto Alegre",
         "Boleto"
        ],
        [
         87,
         "2024-09-17",
         "Mouse",
         "Acessórios",
         4782.08,
         1,
         "Porto Alegre",
         "Pix"
        ],
        [
         88,
         "2025-05-01",
         "Mouse",
         "Acessórios",
         297.56,
         2,
         "Recife",
         "Pix"
        ],
        [
         89,
         "2024-11-27",
         "Monitor",
         "Eletrônicos",
         2850.66,
         3,
         "Belo Horizonte",
         "Boleto"
        ],
        [
         90,
         "2025-01-08",
         "Monitor",
         "Eletrônicos",
         4014.53,
         5,
         "Porto Alegre",
         "Transferência"
        ],
        [
         91,
         "2024-08-19",
         "Mouse",
         "Acessórios",
         1533.0,
         2,
         "Recife",
         "Pix"
        ],
        [
         92,
         "2025-04-12",
         "Teclado",
         "Acessórios",
         3018.34,
         1,
         "Recife",
         "Cartão de Crédito"
        ],
        [
         93,
         "2025-01-21",
         "Monitor",
         "Eletrônicos",
         2591.61,
         5,
         "Curitiba",
         "Pix"
        ],
        [
         94,
         "2024-12-25",
         "Headset",
         "Acessórios",
         2095.64,
         3,
         "São Paulo",
         "Pix"
        ],
        [
         95,
         "2024-08-09",
         "Monitor",
         "Eletrônicos",
         590.35,
         3,
         "Curitiba",
         "Transferência"
        ],
        [
         96,
         "2024-07-23",
         "Teclado",
         "Acessórios",
         1760.34,
         3,
         "São Paulo",
         "Transferência"
        ],
        [
         97,
         "2025-04-27",
         "Notebook",
         "Eletrônicos",
         2272.54,
         4,
         "Porto Alegre",
         "Cartão de Crédito"
        ],
        [
         98,
         "2024-06-18",
         "Monitor",
         "Eletrônicos",
         2945.75,
         1,
         "São Paulo",
         "Transferência"
        ],
        [
         99,
         "2024-11-09",
         "Teclado",
         "Acessórios",
         3676.66,
         2,
         "Belo Horizonte",
         "Cartão de Crédito"
        ],
        [
         100,
         "2024-10-14",
         "Notebook",
         "Eletrônicos",
         4870.64,
         1,
         "Porto Alegre",
         "Cartão de Crédito"
        ],
        [
         101,
         "2025-02-18",
         "Mouse",
         "Acessórios",
         839.98,
         2,
         "Porto Alegre",
         "Transferência"
        ],
        [
         102,
         "2025-03-05",
         "Headset",
         "Acessórios",
         4038.73,
         4,
         "Recife",
         "Transferência"
        ],
        [
         103,
         "2024-12-31",
         "Mouse",
         "Acessórios",
         1024.01,
         1,
         "Porto Alegre",
         "Boleto"
        ],
        [
         104,
         "2024-09-19",
         "Notebook",
         "Eletrônicos",
         2008.73,
         2,
         "Recife",
         "Pix"
        ],
        [
         105,
         "2025-02-07",
         "Impressora",
         "Periféricos",
         3655.29,
         3,
         "Recife",
         "Boleto"
        ],
        [
         106,
         "2025-05-21",
         "Notebook",
         "Eletrônicos",
         2941.5,
         3,
         "Recife",
         "Pix"
        ],
        [
         107,
         "2024-06-16",
         "Mouse",
         "Acessórios",
         558.65,
         4,
         "Rio de Janeiro",
         "Pix"
        ],
        [
         108,
         "2025-01-30",
         "Mouse",
         "Acessórios",
         1349.69,
         5,
         "Rio de Janeiro",
         "Transferência"
        ],
        [
         109,
         "2024-11-30",
         "Impressora",
         "Periféricos",
         3195.7,
         1,
         "Recife",
         "Boleto"
        ],
        [
         110,
         "2025-05-01",
         "Monitor",
         "Eletrônicos",
         333.58,
         2,
         "Porto Alegre",
         "Pix"
        ],
        [
         111,
         "2025-05-04",
         "Teclado",
         "Acessórios",
         2687.74,
         4,
         "Porto Alegre",
         "Boleto"
        ],
        [
         112,
         "2025-03-10",
         "Impressora",
         "Periféricos",
         2719.9,
         5,
         "Recife",
         "Pix"
        ],
        [
         113,
         "2024-06-22",
         "Notebook",
         "Eletrônicos",
         3182.56,
         1,
         "Rio de Janeiro",
         "Transferência"
        ],
        [
         114,
         "2024-10-05",
         "Monitor",
         "Eletrônicos",
         1746.13,
         3,
         "Porto Alegre",
         "Pix"
        ],
        [
         115,
         "2024-06-30",
         "Notebook",
         "Eletrônicos",
         2579.69,
         1,
         "Curitiba",
         "Pix"
        ],
        [
         116,
         "2025-02-18",
         "Mouse",
         "Acessórios",
         3457.55,
         1,
         "Porto Alegre",
         "Cartão de Crédito"
        ],
        [
         117,
         "2025-04-08",
         "Teclado",
         "Acessórios",
         3088.54,
         4,
         "Recife",
         "Cartão de Crédito"
        ],
        [
         118,
         "2025-01-07",
         "Monitor",
         "Eletrônicos",
         2332.0,
         4,
         "Porto Alegre",
         "Pix"
        ],
        [
         119,
         "2024-12-13",
         "Impressora",
         "Periféricos",
         616.34,
         2,
         "Porto Alegre",
         "Pix"
        ],
        [
         120,
         "2024-08-09",
         "Headset",
         "Acessórios",
         3027.43,
         3,
         "Rio de Janeiro",
         "Cartão de Crédito"
        ],
        [
         121,
         "2025-03-04",
         "Impressora",
         "Periféricos",
         267.65,
         1,
         "Recife",
         "Boleto"
        ],
        [
         122,
         "2024-12-24",
         "Notebook",
         "Eletrônicos",
         1698.92,
         2,
         "Curitiba",
         "Transferência"
        ],
        [
         123,
         "2025-02-22",
         "Mouse",
         "Acessórios",
         4512.31,
         2,
         "São Paulo",
         "Boleto"
        ],
        [
         124,
         "2025-02-03",
         "Mouse",
         "Acessórios",
         2678.71,
         4,
         "Curitiba",
         "Pix"
        ],
        [
         125,
         "2025-05-23",
         "Notebook",
         "Eletrônicos",
         1769.46,
         3,
         "Porto Alegre",
         "Transferência"
        ],
        [
         126,
         "2024-08-14",
         "Monitor",
         "Eletrônicos",
         3355.12,
         1,
         "São Paulo",
         "Pix"
        ],
        [
         127,
         "2024-06-14",
         "Teclado",
         "Acessórios",
         3661.6,
         5,
         "Recife",
         "Pix"
        ],
        [
         128,
         "2024-08-21",
         "Headset",
         "Acessórios",
         2214.22,
         1,
         "Recife",
         "Transferência"
        ],
        [
         129,
         "2024-07-01",
         "Teclado",
         "Acessórios",
         1425.38,
         2,
         "Rio de Janeiro",
         "Boleto"
        ],
        [
         130,
         "2025-04-23",
         "Notebook",
         "Eletrônicos",
         1547.41,
         1,
         "Curitiba",
         "Boleto"
        ],
        [
         131,
         "2024-10-30",
         "Mouse",
         "Acessórios",
         3383.93,
         3,
         "Porto Alegre",
         "Boleto"
        ],
        [
         132,
         "2024-10-22",
         "Impressora",
         "Periféricos",
         4623.58,
         1,
         "Rio de Janeiro",
         "Pix"
        ],
        [
         133,
         "2024-08-16",
         "Teclado",
         "Acessórios",
         2743.1,
         4,
         "São Paulo",
         "Cartão de Crédito"
        ],
        [
         134,
         "2025-01-11",
         "Impressora",
         "Periféricos",
         4811.41,
         2,
         "Porto Alegre",
         "Pix"
        ],
        [
         135,
         "2025-03-18",
         "Mouse",
         "Acessórios",
         3422.5,
         3,
         "Rio de Janeiro",
         "Pix"
        ],
        [
         136,
         "2025-03-08",
         "Headset",
         "Acessórios",
         2630.36,
         4,
         "Belo Horizonte",
         "Cartão de Crédito"
        ],
        [
         137,
         "2025-03-27",
         "Monitor",
         "Eletrônicos",
         823.44,
         2,
         "Rio de Janeiro",
         "Cartão de Crédito"
        ],
        [
         138,
         "2025-03-29",
         "Impressora",
         "Periféricos",
         4706.63,
         4,
         "Curitiba",
         "Transferência"
        ],
        [
         139,
         "2024-06-08",
         "Notebook",
         "Eletrônicos",
         1591.15,
         2,
         "Porto Alegre",
         "Pix"
        ],
        [
         140,
         "2024-07-11",
         "Monitor",
         "Eletrônicos",
         1576.07,
         1,
         "Curitiba",
         "Pix"
        ],
        [
         141,
         "2025-01-08",
         "Teclado",
         "Acessórios",
         1185.65,
         1,
         "Porto Alegre",
         "Pix"
        ],
        [
         142,
         "2024-11-20",
         "Headset",
         "Acessórios",
         1991.21,
         4,
         "Belo Horizonte",
         "Cartão de Crédito"
        ],
        [
         143,
         "2024-10-18",
         "Monitor",
         "Eletrônicos",
         3688.35,
         4,
         "Belo Horizonte",
         "Cartão de Crédito"
        ],
        [
         144,
         "2025-02-12",
         "Teclado",
         "Acessórios",
         696.78,
         3,
         "Rio de Janeiro",
         "Cartão de Crédito"
        ],
        [
         145,
         "2025-02-13",
         "Notebook",
         "Eletrônicos",
         2086.85,
         5,
         "Porto Alegre",
         "Boleto"
        ],
        [
         146,
         "2024-05-25",
         "Monitor",
         "Eletrônicos",
         468.71,
         4,
         "São Paulo",
         "Cartão de Crédito"
        ],
        [
         147,
         "2024-07-03",
         "Notebook",
         "Eletrônicos",
         2814.64,
         2,
         "Curitiba",
         "Transferência"
        ],
        [
         148,
         "2025-03-24",
         "Headset",
         "Acessórios",
         1682.42,
         2,
         "Recife",
         "Cartão de Crédito"
        ],
        [
         149,
         "2024-06-03",
         "Monitor",
         "Eletrônicos",
         3357.87,
         3,
         "Recife",
         "Boleto"
        ],
        [
         150,
         "2025-01-18",
         "Notebook",
         "Eletrônicos",
         4363.42,
         5,
         "Porto Alegre",
         "Cartão de Crédito"
        ],
        [
         151,
         "2025-04-02",
         "Mouse",
         "Acessórios",
         2548.47,
         3,
         "Rio de Janeiro",
         "Transferência"
        ],
        [
         152,
         "2024-09-01",
         "Monitor",
         "Eletrônicos",
         2161.96,
         2,
         "Rio de Janeiro",
         "Cartão de Crédito"
        ],
        [
         153,
         "2024-11-06",
         "Monitor",
         "Eletrônicos",
         4609.13,
         4,
         "Belo Horizonte",
         "Pix"
        ],
        [
         154,
         "2025-03-10",
         "Monitor",
         "Eletrônicos",
         4365.16,
         3,
         "Belo Horizonte",
         "Cartão de Crédito"
        ],
        [
         155,
         "2024-06-29",
         "Teclado",
         "Acessórios",
         978.06,
         4,
         "Rio de Janeiro",
         "Transferência"
        ],
        [
         156,
         "2024-06-28",
         "Monitor",
         "Eletrônicos",
         3982.19,
         2,
         "Curitiba",
         "Cartão de Crédito"
        ],
        [
         157,
         "2024-09-21",
         "Impressora",
         "Periféricos",
         3936.26,
         2,
         "São Paulo",
         "Boleto"
        ],
        [
         158,
         "2025-01-25",
         "Impressora",
         "Periféricos",
         1239.86,
         4,
         "São Paulo",
         "Pix"
        ],
        [
         159,
         "2025-01-17",
         "Monitor",
         "Eletrônicos",
         1738.84,
         5,
         "Recife",
         "Pix"
        ],
        [
         160,
         "2024-08-13",
         "Headset",
         "Acessórios",
         775.46,
         1,
         "São Paulo",
         "Boleto"
        ],
        [
         161,
         "2024-06-22",
         "Headset",
         "Acessórios",
         1551.74,
         5,
         "Porto Alegre",
         "Cartão de Crédito"
        ],
        [
         162,
         "2024-11-26",
         "Teclado",
         "Acessórios",
         4584.84,
         2,
         "Rio de Janeiro",
         "Boleto"
        ],
        [
         163,
         "2024-10-07",
         "Notebook",
         "Eletrônicos",
         2229.86,
         5,
         "Belo Horizonte",
         "Boleto"
        ],
        [
         164,
         "2025-04-04",
         "Teclado",
         "Acessórios",
         4093.59,
         4,
         "Recife",
         "Transferência"
        ],
        [
         165,
         "2025-03-18",
         "Impressora",
         "Periféricos",
         4058.47,
         1,
         "Belo Horizonte",
         "Pix"
        ],
        [
         166,
         "2025-01-26",
         "Notebook",
         "Eletrônicos",
         4064.92,
         5,
         "Curitiba",
         "Boleto"
        ],
        [
         167,
         "2025-03-07",
         "Notebook",
         "Eletrônicos",
         1233.94,
         2,
         "Rio de Janeiro",
         "Transferência"
        ],
        [
         168,
         "2025-03-29",
         "Monitor",
         "Eletrônicos",
         510.38,
         4,
         "Belo Horizonte",
         "Cartão de Crédito"
        ],
        [
         169,
         "2025-02-12",
         "Teclado",
         "Acessórios",
         139.52,
         3,
         "Belo Horizonte",
         "Transferência"
        ],
        [
         170,
         "2025-05-18",
         "Headset",
         "Acessórios",
         4574.75,
         3,
         "Rio de Janeiro",
         "Boleto"
        ],
        [
         171,
         "2025-04-16",
         "Headset",
         "Acessórios",
         3852.48,
         4,
         "Curitiba",
         "Pix"
        ],
        [
         172,
         "2024-12-29",
         "Monitor",
         "Eletrônicos",
         696.52,
         1,
         "São Paulo",
         "Boleto"
        ],
        [
         173,
         "2025-02-24",
         "Impressora",
         "Periféricos",
         1050.35,
         3,
         "Porto Alegre",
         "Boleto"
        ],
        [
         174,
         "2024-06-04",
         "Monitor",
         "Eletrônicos",
         1452.75,
         2,
         "Recife",
         "Pix"
        ],
        [
         175,
         "2024-09-03",
         "Monitor",
         "Eletrônicos",
         2594.94,
         3,
         "Belo Horizonte",
         "Boleto"
        ],
        [
         176,
         "2024-09-28",
         "Mouse",
         "Acessórios",
         1999.23,
         2,
         "Porto Alegre",
         "Boleto"
        ],
        [
         177,
         "2024-07-03",
         "Impressora",
         "Periféricos",
         4728.35,
         3,
         "Curitiba",
         "Pix"
        ],
        [
         178,
         "2025-01-26",
         "Mouse",
         "Acessórios",
         1339.29,
         5,
         "Rio de Janeiro",
         "Cartão de Crédito"
        ],
        [
         179,
         "2024-09-09",
         "Monitor",
         "Eletrônicos",
         2770.65,
         2,
         "Curitiba",
         "Pix"
        ],
        [
         180,
         "2024-11-04",
         "Headset",
         "Acessórios",
         1878.1,
         4,
         "Rio de Janeiro",
         "Cartão de Crédito"
        ],
        [
         181,
         "2025-03-25",
         "Notebook",
         "Eletrônicos",
         495.02,
         3,
         "Rio de Janeiro",
         "Cartão de Crédito"
        ],
        [
         182,
         "2025-01-23",
         "Headset",
         "Acessórios",
         4817.98,
         5,
         "Curitiba",
         "Pix"
        ],
        [
         183,
         "2024-11-24",
         "Notebook",
         "Eletrônicos",
         2780.24,
         3,
         "Recife",
         "Cartão de Crédito"
        ],
        [
         184,
         "2025-03-25",
         "Notebook",
         "Eletrônicos",
         790.2,
         4,
         "Rio de Janeiro",
         "Cartão de Crédito"
        ],
        [
         185,
         "2024-07-02",
         "Mouse",
         "Acessórios",
         244.4,
         3,
         "Curitiba",
         "Transferência"
        ],
        [
         186,
         "2025-01-15",
         "Headset",
         "Acessórios",
         2508.92,
         1,
         "Rio de Janeiro",
         "Pix"
        ],
        [
         187,
         "2025-02-23",
         "Headset",
         "Acessórios",
         3116.95,
         1,
         "Porto Alegre",
         "Boleto"
        ],
        [
         188,
         "2024-12-07",
         "Impressora",
         "Periféricos",
         4969.45,
         1,
         "São Paulo",
         "Boleto"
        ],
        [
         189,
         "2025-04-29",
         "Notebook",
         "Eletrônicos",
         4397.84,
         4,
         "Curitiba",
         "Boleto"
        ],
        [
         190,
         "2025-01-08",
         "Teclado",
         "Acessórios",
         4937.52,
         3,
         "Recife",
         "Pix"
        ],
        [
         191,
         "2025-01-02",
         "Notebook",
         "Eletrônicos",
         277.76,
         2,
         "Recife",
         "Boleto"
        ],
        [
         192,
         "2025-05-22",
         "Impressora",
         "Periféricos",
         3390.75,
         4,
         "Recife",
         "Boleto"
        ],
        [
         193,
         "2025-03-07",
         "Impressora",
         "Periféricos",
         3074.63,
         4,
         "Belo Horizonte",
         "Transferência"
        ],
        [
         194,
         "2024-10-22",
         "Headset",
         "Acessórios",
         2129.59,
         2,
         "São Paulo",
         "Transferência"
        ],
        [
         195,
         "2025-02-20",
         "Monitor",
         "Eletrônicos",
         4555.64,
         5,
         "Porto Alegre",
         "Cartão de Crédito"
        ],
        [
         196,
         "2024-09-26",
         "Monitor",
         "Eletrônicos",
         2287.6,
         4,
         "Belo Horizonte",
         "Pix"
        ],
        [
         197,
         "2025-05-14",
         "Mouse",
         "Acessórios",
         4867.2,
         1,
         "São Paulo",
         "Boleto"
        ],
        [
         198,
         "2024-06-23",
         "Mouse",
         "Acessórios",
         576.55,
         1,
         "Porto Alegre",
         "Transferência"
        ],
        [
         199,
         "2024-06-26",
         "Headset",
         "Acessórios",
         916.19,
         3,
         "Curitiba",
         "Transferência"
        ],
        [
         200,
         "2024-09-19",
         "Teclado",
         "Acessórios",
         4308.79,
         3,
         "Rio de Janeiro",
         "Pix"
        ],
        [
         201,
         "2025-05-01",
         "Impressora",
         "Periféricos",
         3127.88,
         5,
         "Belo Horizonte",
         "Pix"
        ],
        [
         202,
         "2025-02-02",
         "Headset",
         "Acessórios",
         987.88,
         3,
         "Curitiba",
         "Pix"
        ],
        [
         203,
         "2024-05-26",
         "Teclado",
         "Acessórios",
         2003.91,
         5,
         "Curitiba",
         "Pix"
        ],
        [
         204,
         "2024-07-12",
         "Impressora",
         "Periféricos",
         4160.87,
         5,
         "Belo Horizonte",
         "Transferência"
        ],
        [
         205,
         "2025-01-08",
         "Notebook",
         "Eletrônicos",
         3532.95,
         3,
         "Curitiba",
         "Pix"
        ],
        [
         206,
         "2025-04-10",
         "Mouse",
         "Acessórios",
         4074.9,
         2,
         "São Paulo",
         "Transferência"
        ],
        [
         207,
         "2024-09-28",
         "Mouse",
         "Acessórios",
         669.92,
         3,
         "Rio de Janeiro",
         "Transferência"
        ],
        [
         208,
         "2025-03-30",
         "Notebook",
         "Eletrônicos",
         1433.48,
         3,
         "São Paulo",
         "Boleto"
        ],
        [
         209,
         "2024-07-06",
         "Headset",
         "Acessórios",
         4648.74,
         5,
         "São Paulo",
         "Boleto"
        ],
        [
         210,
         "2025-02-12",
         "Headset",
         "Acessórios",
         318.99,
         1,
         "Recife",
         "Transferência"
        ],
        [
         211,
         "2025-03-09",
         "Headset",
         "Acessórios",
         1672.92,
         1,
         "São Paulo",
         "Transferência"
        ],
        [
         212,
         "2025-04-18",
         "Teclado",
         "Acessórios",
         4517.99,
         2,
         "Rio de Janeiro",
         "Pix"
        ],
        [
         213,
         "2024-08-08",
         "Teclado",
         "Acessórios",
         617.04,
         1,
         "Belo Horizonte",
         "Boleto"
        ],
        [
         214,
         "2024-09-21",
         "Headset",
         "Acessórios",
         4146.0,
         4,
         "Belo Horizonte",
         "Cartão de Crédito"
        ],
        [
         215,
         "2024-10-07",
         "Headset",
         "Acessórios",
         2077.49,
         3,
         "Curitiba",
         "Cartão de Crédito"
        ],
        [
         216,
         "2024-07-23",
         "Notebook",
         "Eletrônicos",
         593.29,
         1,
         "Curitiba",
         "Boleto"
        ],
        [
         217,
         "2024-07-29",
         "Teclado",
         "Acessórios",
         4276.67,
         2,
         "Rio de Janeiro",
         "Cartão de Crédito"
        ],
        [
         218,
         "2024-10-30",
         "Impressora",
         "Periféricos",
         1696.63,
         4,
         "Curitiba",
         "Cartão de Crédito"
        ],
        [
         219,
         "2024-07-19",
         "Headset",
         "Acessórios",
         4508.91,
         2,
         "Rio de Janeiro",
         "Cartão de Crédito"
        ],
        [
         220,
         "2024-06-18",
         "Teclado",
         "Acessórios",
         717.49,
         4,
         "Rio de Janeiro",
         "Pix"
        ],
        [
         221,
         "2025-01-13",
         "Teclado",
         "Acessórios",
         1572.68,
         2,
         "Curitiba",
         "Cartão de Crédito"
        ],
        [
         222,
         "2025-05-07",
         "Teclado",
         "Acessórios",
         1924.0,
         3,
         "Belo Horizonte",
         "Boleto"
        ],
        [
         223,
         "2024-09-07",
         "Monitor",
         "Eletrônicos",
         4576.43,
         4,
         "Curitiba",
         "Transferência"
        ],
        [
         224,
         "2024-12-05",
         "Headset",
         "Acessórios",
         1846.31,
         2,
         "Curitiba",
         "Boleto"
        ],
        [
         225,
         "2024-10-22",
         "Notebook",
         "Eletrônicos",
         3644.07,
         5,
         "Porto Alegre",
         "Cartão de Crédito"
        ],
        [
         226,
         "2024-09-29",
         "Monitor",
         "Eletrônicos",
         3500.06,
         2,
         "Porto Alegre",
         "Pix"
        ],
        [
         227,
         "2025-03-22",
         "Monitor",
         "Eletrônicos",
         558.13,
         5,
         "Belo Horizonte",
         "Cartão de Crédito"
        ],
        [
         228,
         "2024-09-29",
         "Notebook",
         "Eletrônicos",
         2608.59,
         2,
         "Belo Horizonte",
         "Boleto"
        ],
        [
         229,
         "2025-04-22",
         "Teclado",
         "Acessórios",
         3249.02,
         4,
         "Belo Horizonte",
         "Pix"
        ],
        [
         230,
         "2024-09-02",
         "Mouse",
         "Acessórios",
         1730.75,
         3,
         "Rio de Janeiro",
         "Boleto"
        ],
        [
         231,
         "2024-08-06",
         "Teclado",
         "Acessórios",
         3680.35,
         4,
         "Rio de Janeiro",
         "Cartão de Crédito"
        ],
        [
         232,
         "2024-11-05",
         "Monitor",
         "Eletrônicos",
         3061.3,
         5,
         "Rio de Janeiro",
         "Cartão de Crédito"
        ],
        [
         233,
         "2025-04-03",
         "Headset",
         "Acessórios",
         1538.3,
         5,
         "Recife",
         "Cartão de Crédito"
        ],
        [
         234,
         "2024-10-18",
         "Monitor",
         "Eletrônicos",
         3300.68,
         4,
         "Porto Alegre",
         "Cartão de Crédito"
        ],
        [
         235,
         "2025-04-07",
         "Impressora",
         "Periféricos",
         163.66,
         4,
         "São Paulo",
         "Boleto"
        ],
        [
         236,
         "2024-06-25",
         "Notebook",
         "Eletrônicos",
         1254.43,
         5,
         "São Paulo",
         "Pix"
        ],
        [
         237,
         "2024-06-07",
         "Notebook",
         "Eletrônicos",
         1696.0,
         4,
         "Recife",
         "Transferência"
        ],
        [
         238,
         "2024-06-28",
         "Mouse",
         "Acessórios",
         3868.37,
         1,
         "Recife",
         "Transferência"
        ],
        [
         239,
         "2024-06-10",
         "Teclado",
         "Acessórios",
         3336.4,
         2,
         "Porto Alegre",
         "Transferência"
        ],
        [
         240,
         "2025-03-24",
         "Teclado",
         "Acessórios",
         3461.68,
         2,
         "São Paulo",
         "Cartão de Crédito"
        ],
        [
         241,
         "2025-04-28",
         "Monitor",
         "Eletrônicos",
         3543.28,
         2,
         "São Paulo",
         "Pix"
        ],
        [
         242,
         "2024-06-16",
         "Impressora",
         "Periféricos",
         1257.39,
         5,
         "Porto Alegre",
         "Boleto"
        ],
        [
         243,
         "2025-01-22",
         "Notebook",
         "Eletrônicos",
         2510.74,
         2,
         "Curitiba",
         "Cartão de Crédito"
        ],
        [
         244,
         "2024-07-17",
         "Monitor",
         "Eletrônicos",
         4388.18,
         4,
         "Rio de Janeiro",
         "Cartão de Crédito"
        ],
        [
         245,
         "2025-01-02",
         "Monitor",
         "Eletrônicos",
         4645.45,
         1,
         "Rio de Janeiro",
         "Transferência"
        ],
        [
         246,
         "2025-01-21",
         "Teclado",
         "Acessórios",
         2106.7,
         2,
         "Recife",
         "Pix"
        ],
        [
         247,
         "2024-10-28",
         "Teclado",
         "Acessórios",
         1290.68,
         3,
         "Porto Alegre",
         "Pix"
        ],
        [
         248,
         "2024-06-05",
         "Impressora",
         "Periféricos",
         4555.99,
         4,
         "Recife",
         "Boleto"
        ],
        [
         249,
         "2025-03-27",
         "Impressora",
         "Periféricos",
         3048.91,
         1,
         "Porto Alegre",
         "Cartão de Crédito"
        ],
        [
         250,
         "2025-03-15",
         "Impressora",
         "Periféricos",
         1833.55,
         4,
         "Curitiba",
         "Boleto"
        ],
        [
         251,
         "2024-10-22",
         "Monitor",
         "Eletrônicos",
         1453.23,
         3,
         "Recife",
         "Pix"
        ],
        [
         252,
         "2025-01-04",
         "Headset",
         "Acessórios",
         2276.7,
         1,
         "Rio de Janeiro",
         "Boleto"
        ],
        [
         253,
         "2025-02-18",
         "Mouse",
         "Acessórios",
         3700.14,
         3,
         "São Paulo",
         "Boleto"
        ],
        [
         254,
         "2024-10-11",
         "Notebook",
         "Eletrônicos",
         2372.49,
         5,
         "Curitiba",
         "Pix"
        ],
        [
         255,
         "2024-10-04",
         "Impressora",
         "Periféricos",
         1977.24,
         2,
         "São Paulo",
         "Transferência"
        ],
        [
         256,
         "2024-10-07",
         "Headset",
         "Acessórios",
         3759.23,
         2,
         "Recife",
         "Pix"
        ],
        [
         257,
         "2024-07-23",
         "Teclado",
         "Acessórios",
         2690.52,
         3,
         "Belo Horizonte",
         "Cartão de Crédito"
        ],
        [
         258,
         "2025-04-23",
         "Monitor",
         "Eletrônicos",
         2959.53,
         3,
         "Belo Horizonte",
         "Pix"
        ],
        [
         259,
         "2024-12-30",
         "Monitor",
         "Eletrônicos",
         1768.07,
         2,
         "Belo Horizonte",
         "Pix"
        ],
        [
         260,
         "2024-08-02",
         "Headset",
         "Acessórios",
         3793.67,
         5,
         "Rio de Janeiro",
         "Transferência"
        ],
        [
         261,
         "2024-11-22",
         "Headset",
         "Acessórios",
         1105.25,
         1,
         "Curitiba",
         "Cartão de Crédito"
        ],
        [
         262,
         "2025-01-10",
         "Headset",
         "Acessórios",
         3397.57,
         1,
         "São Paulo",
         "Boleto"
        ],
        [
         263,
         "2024-08-06",
         "Headset",
         "Acessórios",
         4478.56,
         5,
         "Recife",
         "Transferência"
        ],
        [
         264,
         "2024-09-10",
         "Mouse",
         "Acessórios",
         1092.21,
         5,
         "Belo Horizonte",
         "Cartão de Crédito"
        ],
        [
         265,
         "2025-02-07",
         "Impressora",
         "Periféricos",
         628.24,
         1,
         "Belo Horizonte",
         "Transferência"
        ],
        [
         266,
         "2024-07-15",
         "Notebook",
         "Eletrônicos",
         3063.85,
         4,
         "Recife",
         "Cartão de Crédito"
        ],
        [
         267,
         "2024-06-09",
         "Teclado",
         "Acessórios",
         3580.16,
         2,
         "Belo Horizonte",
         "Transferência"
        ],
        [
         268,
         "2025-04-24",
         "Mouse",
         "Acessórios",
         2563.6,
         1,
         "Curitiba",
         "Boleto"
        ],
        [
         269,
         "2025-04-10",
         "Mouse",
         "Acessórios",
         2511.52,
         1,
         "Porto Alegre",
         "Cartão de Crédito"
        ],
        [
         270,
         "2024-06-10",
         "Headset",
         "Acessórios",
         2627.82,
         4,
         "São Paulo",
         "Pix"
        ],
        [
         271,
         "2024-06-26",
         "Headset",
         "Acessórios",
         1839.05,
         3,
         "Recife",
         "Cartão de Crédito"
        ],
        [
         272,
         "2024-09-19",
         "Mouse",
         "Acessórios",
         4645.7,
         3,
         "Curitiba",
         "Boleto"
        ],
        [
         273,
         "2025-02-20",
         "Teclado",
         "Acessórios",
         2333.38,
         2,
         "Rio de Janeiro",
         "Pix"
        ],
        [
         274,
         "2024-11-26",
         "Mouse",
         "Acessórios",
         751.15,
         3,
         "São Paulo",
         "Cartão de Crédito"
        ],
        [
         275,
         "2025-02-03",
         "Monitor",
         "Eletrônicos",
         3739.47,
         1,
         "São Paulo",
         "Transferência"
        ],
        [
         276,
         "2025-02-03",
         "Notebook",
         "Eletrônicos",
         3080.3,
         5,
         "Porto Alegre",
         "Boleto"
        ],
        [
         277,
         "2025-01-14",
         "Teclado",
         "Acessórios",
         1577.21,
         2,
         "Rio de Janeiro",
         "Pix"
        ],
        [
         278,
         "2025-01-22",
         "Impressora",
         "Periféricos",
         2719.61,
         4,
         "São Paulo",
         "Boleto"
        ],
        [
         279,
         "2025-01-31",
         "Impressora",
         "Periféricos",
         4075.02,
         4,
         "Curitiba",
         "Transferência"
        ],
        [
         280,
         "2024-11-19",
         "Headset",
         "Acessórios",
         1723.04,
         1,
         "Belo Horizonte",
         "Transferência"
        ],
        [
         281,
         "2024-07-31",
         "Headset",
         "Acessórios",
         310.7,
         1,
         "Porto Alegre",
         "Pix"
        ],
        [
         282,
         "2024-08-24",
         "Monitor",
         "Eletrônicos",
         4346.34,
         5,
         "Porto Alegre",
         "Cartão de Crédito"
        ],
        [
         283,
         "2024-09-01",
         "Mouse",
         "Acessórios",
         2721.42,
         3,
         "Curitiba",
         "Transferência"
        ],
        [
         284,
         "2025-03-28",
         "Mouse",
         "Acessórios",
         3528.29,
         4,
         "Recife",
         "Cartão de Crédito"
        ],
        [
         285,
         "2024-12-05",
         "Impressora",
         "Periféricos",
         129.76,
         3,
         "Recife",
         "Cartão de Crédito"
        ],
        [
         286,
         "2024-11-29",
         "Teclado",
         "Acessórios",
         4279.57,
         1,
         "Porto Alegre",
         "Transferência"
        ],
        [
         287,
         "2025-04-08",
         "Notebook",
         "Eletrônicos",
         3805.96,
         4,
         "Belo Horizonte",
         "Pix"
        ],
        [
         288,
         "2025-01-19",
         "Mouse",
         "Acessórios",
         3505.67,
         5,
         "Rio de Janeiro",
         "Cartão de Crédito"
        ],
        [
         289,
         "2025-02-18",
         "Notebook",
         "Eletrônicos",
         3872.43,
         4,
         "Curitiba",
         "Transferência"
        ],
        [
         290,
         "2024-07-31",
         "Notebook",
         "Eletrônicos",
         3746.68,
         1,
         "Curitiba",
         "Cartão de Crédito"
        ],
        [
         291,
         "2025-04-29",
         "Notebook",
         "Eletrônicos",
         2962.36,
         4,
         "Rio de Janeiro",
         "Pix"
        ],
        [
         292,
         "2024-09-08",
         "Headset",
         "Acessórios",
         4948.65,
         2,
         "Rio de Janeiro",
         "Transferência"
        ],
        [
         293,
         "2025-02-28",
         "Teclado",
         "Acessórios",
         4025.62,
         1,
         "Curitiba",
         "Pix"
        ],
        [
         294,
         "2024-11-29",
         "Monitor",
         "Eletrônicos",
         253.95,
         1,
         "São Paulo",
         "Pix"
        ],
        [
         295,
         "2024-09-03",
         "Mouse",
         "Acessórios",
         1434.22,
         3,
         "Recife",
         "Boleto"
        ],
        [
         296,
         "2025-01-24",
         "Impressora",
         "Periféricos",
         4985.28,
         1,
         "São Paulo",
         "Cartão de Crédito"
        ],
        [
         297,
         "2025-03-14",
         "Impressora",
         "Periféricos",
         2638.89,
         5,
         "São Paulo",
         "Cartão de Crédito"
        ],
        [
         298,
         "2024-08-27",
         "Notebook",
         "Eletrônicos",
         302.79,
         4,
         "Rio de Janeiro",
         "Cartão de Crédito"
        ],
        [
         299,
         "2025-04-26",
         "Teclado",
         "Acessórios",
         499.22,
         1,
         "São Paulo",
         "Pix"
        ],
        [
         300,
         "2025-01-28",
         "Headset",
         "Acessórios",
         306.88,
         2,
         "Belo Horizonte",
         "Transferência"
        ],
        [
         301,
         "2024-12-19",
         "Monitor",
         "Eletrônicos",
         4855.58,
         5,
         "Curitiba",
         "Pix"
        ],
        [
         302,
         "2024-11-17",
         "Notebook",
         "Eletrônicos",
         4347.83,
         2,
         "Rio de Janeiro",
         "Boleto"
        ],
        [
         303,
         "2025-02-04",
         "Monitor",
         "Eletrônicos",
         2779.32,
         3,
         "Rio de Janeiro",
         "Cartão de Crédito"
        ],
        [
         304,
         "2025-01-25",
         "Mouse",
         "Acessórios",
         4550.44,
         4,
         "Belo Horizonte",
         "Cartão de Crédito"
        ],
        [
         305,
         "2025-01-08",
         "Notebook",
         "Eletrônicos",
         2516.34,
         1,
         "Rio de Janeiro",
         "Pix"
        ],
        [
         306,
         "2024-10-21",
         "Teclado",
         "Acessórios",
         3684.27,
         3,
         "Curitiba",
         "Cartão de Crédito"
        ],
        [
         307,
         "2025-03-31",
         "Headset",
         "Acessórios",
         2551.71,
         4,
         "Recife",
         "Cartão de Crédito"
        ],
        [
         308,
         "2025-01-23",
         "Monitor",
         "Eletrônicos",
         735.66,
         3,
         "Porto Alegre",
         "Pix"
        ],
        [
         309,
         "2024-11-02",
         "Mouse",
         "Acessórios",
         395.01,
         5,
         "São Paulo",
         "Pix"
        ],
        [
         310,
         "2024-08-12",
         "Impressora",
         "Periféricos",
         2085.39,
         4,
         "Belo Horizonte",
         "Transferência"
        ],
        [
         311,
         "2024-08-03",
         "Headset",
         "Acessórios",
         3595.49,
         2,
         "Rio de Janeiro",
         "Cartão de Crédito"
        ],
        [
         312,
         "2024-06-19",
         "Notebook",
         "Eletrônicos",
         4212.46,
         1,
         "Belo Horizonte",
         "Transferência"
        ],
        [
         313,
         "2024-07-11",
         "Teclado",
         "Acessórios",
         4782.6,
         2,
         "Recife",
         "Pix"
        ],
        [
         314,
         "2024-12-05",
         "Mouse",
         "Acessórios",
         3715.02,
         1,
         "Rio de Janeiro",
         "Cartão de Crédito"
        ],
        [
         315,
         "2024-11-18",
         "Impressora",
         "Periféricos",
         3879.53,
         4,
         "Curitiba",
         "Cartão de Crédito"
        ],
        [
         316,
         "2025-03-14",
         "Mouse",
         "Acessórios",
         2925.14,
         4,
         "São Paulo",
         "Cartão de Crédito"
        ],
        [
         317,
         "2024-07-20",
         "Notebook",
         "Eletrônicos",
         2137.03,
         3,
         "São Paulo",
         "Transferência"
        ],
        [
         318,
         "2024-06-01",
         "Mouse",
         "Acessórios",
         2314.5,
         4,
         "Curitiba",
         "Cartão de Crédito"
        ],
        [
         319,
         "2024-10-27",
         "Mouse",
         "Acessórios",
         449.66,
         4,
         "Porto Alegre",
         "Pix"
        ],
        [
         320,
         "2024-07-28",
         "Impressora",
         "Periféricos",
         891.51,
         5,
         "Curitiba",
         "Boleto"
        ],
        [
         321,
         "2024-06-27",
         "Teclado",
         "Acessórios",
         4641.92,
         4,
         "Curitiba",
         "Boleto"
        ],
        [
         322,
         "2024-09-06",
         "Mouse",
         "Acessórios",
         3195.69,
         1,
         "Belo Horizonte",
         "Transferência"
        ],
        [
         323,
         "2025-02-23",
         "Mouse",
         "Acessórios",
         4722.06,
         5,
         "Belo Horizonte",
         "Boleto"
        ],
        [
         324,
         "2024-08-09",
         "Monitor",
         "Eletrônicos",
         1998.66,
         2,
         "Curitiba",
         "Pix"
        ],
        [
         325,
         "2025-05-05",
         "Notebook",
         "Eletrônicos",
         968.83,
         4,
         "Curitiba",
         "Pix"
        ],
        [
         326,
         "2024-06-09",
         "Impressora",
         "Periféricos",
         2991.55,
         3,
         "São Paulo",
         "Boleto"
        ],
        [
         327,
         "2025-04-02",
         "Headset",
         "Acessórios",
         3817.19,
         3,
         "Porto Alegre",
         "Boleto"
        ],
        [
         328,
         "2024-05-29",
         "Impressora",
         "Periféricos",
         3418.29,
         4,
         "Belo Horizonte",
         "Transferência"
        ],
        [
         329,
         "2025-01-26",
         "Impressora",
         "Periféricos",
         2388.3,
         5,
         "Curitiba",
         "Transferência"
        ],
        [
         330,
         "2024-10-01",
         "Impressora",
         "Periféricos",
         3653.21,
         1,
         "Curitiba",
         "Cartão de Crédito"
        ],
        [
         331,
         "2024-06-02",
         "Impressora",
         "Periféricos",
         1892.94,
         4,
         "Porto Alegre",
         "Boleto"
        ],
        [
         332,
         "2024-06-08",
         "Teclado",
         "Acessórios",
         3537.13,
         5,
         "Porto Alegre",
         "Pix"
        ],
        [
         333,
         "2025-03-14",
         "Mouse",
         "Acessórios",
         4261.02,
         3,
         "Curitiba",
         "Cartão de Crédito"
        ],
        [
         334,
         "2025-05-06",
         "Notebook",
         "Eletrônicos",
         1364.44,
         5,
         "Recife",
         "Boleto"
        ],
        [
         335,
         "2024-12-10",
         "Impressora",
         "Periféricos",
         1969.22,
         1,
         "Porto Alegre",
         "Cartão de Crédito"
        ],
        [
         336,
         "2025-03-16",
         "Teclado",
         "Acessórios",
         4087.59,
         5,
         "Recife",
         "Cartão de Crédito"
        ],
        [
         337,
         "2025-01-15",
         "Monitor",
         "Eletrônicos",
         3503.58,
         4,
         "Curitiba",
         "Transferência"
        ],
        [
         338,
         "2024-09-13",
         "Impressora",
         "Periféricos",
         3010.87,
         2,
         "Porto Alegre",
         "Cartão de Crédito"
        ],
        [
         339,
         "2025-05-04",
         "Headset",
         "Acessórios",
         3729.7,
         5,
         "Recife",
         "Transferência"
        ],
        [
         340,
         "2025-01-06",
         "Headset",
         "Acessórios",
         4621.08,
         3,
         "Porto Alegre",
         "Transferência"
        ],
        [
         341,
         "2024-12-30",
         "Teclado",
         "Acessórios",
         2637.95,
         1,
         "Curitiba",
         "Transferência"
        ],
        [
         342,
         "2025-02-06",
         "Headset",
         "Acessórios",
         272.04,
         2,
         "São Paulo",
         "Cartão de Crédito"
        ],
        [
         343,
         "2024-08-25",
         "Headset",
         "Acessórios",
         2906.12,
         2,
         "Recife",
         "Cartão de Crédito"
        ],
        [
         344,
         "2025-04-10",
         "Notebook",
         "Eletrônicos",
         1985.62,
         5,
         "Porto Alegre",
         "Pix"
        ],
        [
         345,
         "2025-05-04",
         "Notebook",
         "Eletrônicos",
         1811.64,
         2,
         "Recife",
         "Boleto"
        ],
        [
         346,
         "2025-01-12",
         "Impressora",
         "Periféricos",
         3426.47,
         3,
         "Curitiba",
         "Transferência"
        ],
        [
         347,
         "2025-02-15",
         "Teclado",
         "Acessórios",
         4813.91,
         4,
         "São Paulo",
         "Pix"
        ],
        [
         348,
         "2024-07-29",
         "Headset",
         "Acessórios",
         1251.96,
         2,
         "São Paulo",
         "Boleto"
        ],
        [
         349,
         "2024-10-20",
         "Notebook",
         "Eletrônicos",
         4103.17,
         1,
         "Belo Horizonte",
         "Transferência"
        ],
        [
         350,
         "2024-05-26",
         "Monitor",
         "Eletrônicos",
         4646.6,
         4,
         "Belo Horizonte",
         "Boleto"
        ],
        [
         351,
         "2024-11-24",
         "Notebook",
         "Eletrônicos",
         2990.57,
         4,
         "Rio de Janeiro",
         "Transferência"
        ],
        [
         352,
         "2025-03-31",
         "Mouse",
         "Acessórios",
         641.85,
         3,
         "São Paulo",
         "Cartão de Crédito"
        ],
        [
         353,
         "2024-06-11",
         "Impressora",
         "Periféricos",
         3287.89,
         3,
         "Curitiba",
         "Boleto"
        ],
        [
         354,
         "2025-01-05",
         "Headset",
         "Acessórios",
         1438.29,
         2,
         "São Paulo",
         "Cartão de Crédito"
        ],
        [
         355,
         "2024-07-09",
         "Impressora",
         "Periféricos",
         1665.12,
         4,
         "Belo Horizonte",
         "Boleto"
        ],
        [
         356,
         "2024-05-29",
         "Teclado",
         "Acessórios",
         2150.92,
         1,
         "São Paulo",
         "Pix"
        ],
        [
         357,
         "2024-12-12",
         "Notebook",
         "Eletrônicos",
         4552.43,
         2,
         "Porto Alegre",
         "Boleto"
        ],
        [
         358,
         "2025-05-21",
         "Mouse",
         "Acessórios",
         3962.44,
         3,
         "Belo Horizonte",
         "Cartão de Crédito"
        ],
        [
         359,
         "2024-10-21",
         "Mouse",
         "Acessórios",
         2672.27,
         2,
         "Porto Alegre",
         "Boleto"
        ],
        [
         360,
         "2025-01-06",
         "Teclado",
         "Acessórios",
         1423.26,
         1,
         "Belo Horizonte",
         "Boleto"
        ],
        [
         361,
         "2024-06-03",
         "Impressora",
         "Periféricos",
         3781.27,
         1,
         "Curitiba",
         "Pix"
        ],
        [
         362,
         "2024-08-05",
         "Headset",
         "Acessórios",
         2805.27,
         5,
         "São Paulo",
         "Boleto"
        ],
        [
         363,
         "2025-03-02",
         "Monitor",
         "Eletrônicos",
         1960.5,
         3,
         "Curitiba",
         "Pix"
        ],
        [
         364,
         "2025-04-17",
         "Mouse",
         "Acessórios",
         3008.83,
         3,
         "Porto Alegre",
         "Cartão de Crédito"
        ],
        [
         365,
         "2024-07-27",
         "Mouse",
         "Acessórios",
         4283.51,
         5,
         "Porto Alegre",
         "Pix"
        ],
        [
         366,
         "2024-12-15",
         "Teclado",
         "Acessórios",
         333.92,
         2,
         "Recife",
         "Transferência"
        ],
        [
         367,
         "2025-01-18",
         "Notebook",
         "Eletrônicos",
         806.82,
         2,
         "Rio de Janeiro",
         "Transferência"
        ],
        [
         368,
         "2025-03-15",
         "Monitor",
         "Eletrônicos",
         2609.42,
         1,
         "Rio de Janeiro",
         "Boleto"
        ],
        [
         369,
         "2024-10-09",
         "Notebook",
         "Eletrônicos",
         4582.74,
         3,
         "Curitiba",
         "Boleto"
        ],
        [
         370,
         "2024-10-30",
         "Notebook",
         "Eletrônicos",
         4993.4,
         1,
         "São Paulo",
         "Transferência"
        ],
        [
         371,
         "2025-03-01",
         "Teclado",
         "Acessórios",
         1389.35,
         2,
         "Porto Alegre",
         "Pix"
        ],
        [
         372,
         "2025-03-21",
         "Mouse",
         "Acessórios",
         2601.22,
         5,
         "Porto Alegre",
         "Transferência"
        ],
        [
         373,
         "2025-01-11",
         "Notebook",
         "Eletrônicos",
         4630.31,
         2,
         "Rio de Janeiro",
         "Cartão de Crédito"
        ],
        [
         374,
         "2025-03-13",
         "Teclado",
         "Acessórios",
         3578.33,
         1,
         "São Paulo",
         "Boleto"
        ],
        [
         375,
         "2025-02-05",
         "Headset",
         "Acessórios",
         2387.64,
         3,
         "São Paulo",
         "Pix"
        ],
        [
         376,
         "2024-09-19",
         "Impressora",
         "Periféricos",
         1735.79,
         3,
         "Recife",
         "Cartão de Crédito"
        ],
        [
         377,
         "2024-07-24",
         "Monitor",
         "Eletrônicos",
         473.8,
         2,
         "Rio de Janeiro",
         "Transferência"
        ],
        [
         378,
         "2024-09-28",
         "Headset",
         "Acessórios",
         4034.21,
         2,
         "São Paulo",
         "Boleto"
        ],
        [
         379,
         "2025-05-07",
         "Teclado",
         "Acessórios",
         334.39,
         1,
         "Porto Alegre",
         "Transferência"
        ],
        [
         380,
         "2025-05-18",
         "Teclado",
         "Acessórios",
         1597.69,
         1,
         "Rio de Janeiro",
         "Boleto"
        ],
        [
         381,
         "2025-03-03",
         "Teclado",
         "Acessórios",
         739.72,
         2,
         "Belo Horizonte",
         "Cartão de Crédito"
        ],
        [
         382,
         "2025-05-01",
         "Monitor",
         "Eletrônicos",
         2761.22,
         1,
         "Belo Horizonte",
         "Transferência"
        ],
        [
         383,
         "2024-11-28",
         "Impressora",
         "Periféricos",
         2977.01,
         3,
         "Porto Alegre",
         "Boleto"
        ],
        [
         384,
         "2024-09-22",
         "Headset",
         "Acessórios",
         4244.56,
         3,
         "Porto Alegre",
         "Boleto"
        ],
        [
         385,
         "2024-10-05",
         "Notebook",
         "Eletrônicos",
         3058.63,
         5,
         "Belo Horizonte",
         "Cartão de Crédito"
        ],
        [
         386,
         "2024-08-23",
         "Teclado",
         "Acessórios",
         1094.07,
         2,
         "Recife",
         "Pix"
        ],
        [
         387,
         "2025-05-15",
         "Monitor",
         "Eletrônicos",
         1175.56,
         5,
         "Recife",
         "Cartão de Crédito"
        ],
        [
         388,
         "2024-08-07",
         "Impressora",
         "Periféricos",
         4393.91,
         1,
         "Belo Horizonte",
         "Transferência"
        ],
        [
         389,
         "2025-03-15",
         "Mouse",
         "Acessórios",
         1016.26,
         5,
         "Porto Alegre",
         "Transferência"
        ],
        [
         390,
         "2024-06-18",
         "Monitor",
         "Eletrônicos",
         2754.9,
         2,
         "Belo Horizonte",
         "Transferência"
        ],
        [
         391,
         "2024-07-04",
         "Headset",
         "Acessórios",
         849.96,
         4,
         "Curitiba",
         "Transferência"
        ],
        [
         392,
         "2024-07-16",
         "Impressora",
         "Periféricos",
         566.7,
         1,
         "Belo Horizonte",
         "Cartão de Crédito"
        ],
        [
         393,
         "2025-03-22",
         "Monitor",
         "Eletrônicos",
         544.5,
         3,
         "Rio de Janeiro",
         "Transferência"
        ],
        [
         394,
         "2024-07-19",
         "Teclado",
         "Acessórios",
         3094.5,
         2,
         "Rio de Janeiro",
         "Transferência"
        ],
        [
         395,
         "2025-02-16",
         "Mouse",
         "Acessórios",
         394.82,
         1,
         "Porto Alegre",
         "Pix"
        ],
        [
         396,
         "2024-12-06",
         "Impressora",
         "Periféricos",
         2031.4,
         5,
         "Porto Alegre",
         "Transferência"
        ],
        [
         397,
         "2024-09-05",
         "Mouse",
         "Acessórios",
         319.4,
         3,
         "Porto Alegre",
         "Boleto"
        ],
        [
         398,
         "2024-11-16",
         "Notebook",
         "Eletrônicos",
         1350.92,
         3,
         "Belo Horizonte",
         "Pix"
        ],
        [
         399,
         "2025-04-06",
         "Impressora",
         "Periféricos",
         2381.38,
         5,
         "Belo Horizonte",
         "Boleto"
        ],
        [
         400,
         "2025-01-16",
         "Impressora",
         "Periféricos",
         1642.86,
         2,
         "Porto Alegre",
         "Boleto"
        ],
        [
         401,
         "2024-07-17",
         "Mouse",
         "Acessórios",
         178.76,
         1,
         "São Paulo",
         "Pix"
        ],
        [
         402,
         "2024-05-27",
         "Mouse",
         "Acessórios",
         3369.44,
         1,
         "Recife",
         "Pix"
        ],
        [
         403,
         "2024-07-06",
         "Monitor",
         "Eletrônicos",
         3286.04,
         3,
         "Rio de Janeiro",
         "Boleto"
        ],
        [
         404,
         "2024-06-07",
         "Mouse",
         "Acessórios",
         1220.74,
         3,
         "Porto Alegre",
         "Cartão de Crédito"
        ],
        [
         405,
         "2025-03-11",
         "Impressora",
         "Periféricos",
         3543.54,
         1,
         "Porto Alegre",
         "Transferência"
        ],
        [
         406,
         "2024-12-15",
         "Monitor",
         "Eletrônicos",
         702.4,
         3,
         "Rio de Janeiro",
         "Transferência"
        ],
        [
         407,
         "2025-03-19",
         "Teclado",
         "Acessórios",
         1718.44,
         5,
         "Recife",
         "Transferência"
        ],
        [
         408,
         "2024-06-03",
         "Impressora",
         "Periféricos",
         4424.92,
         4,
         "Porto Alegre",
         "Cartão de Crédito"
        ],
        [
         409,
         "2024-10-24",
         "Monitor",
         "Eletrônicos",
         2878.38,
         2,
         "Belo Horizonte",
         "Cartão de Crédito"
        ],
        [
         410,
         "2025-01-26",
         "Mouse",
         "Acessórios",
         4734.35,
         2,
         "Porto Alegre",
         "Boleto"
        ],
        [
         411,
         "2024-12-20",
         "Impressora",
         "Periféricos",
         1587.53,
         5,
         "Rio de Janeiro",
         "Transferência"
        ],
        [
         412,
         "2024-11-22",
         "Teclado",
         "Acessórios",
         2743.97,
         5,
         "Rio de Janeiro",
         "Cartão de Crédito"
        ],
        [
         413,
         "2024-08-31",
         "Mouse",
         "Acessórios",
         3035.37,
         2,
         "Porto Alegre",
         "Transferência"
        ],
        [
         414,
         "2024-05-28",
         "Impressora",
         "Periféricos",
         4124.62,
         1,
         "Recife",
         "Pix"
        ],
        [
         415,
         "2024-06-03",
         "Notebook",
         "Eletrônicos",
         3116.68,
         2,
         "Rio de Janeiro",
         "Transferência"
        ],
        [
         416,
         "2024-06-24",
         "Teclado",
         "Acessórios",
         2230.9,
         1,
         "Curitiba",
         "Pix"
        ],
        [
         417,
         "2025-03-21",
         "Notebook",
         "Eletrônicos",
         4496.37,
         3,
         "Belo Horizonte",
         "Pix"
        ],
        [
         418,
         "2024-06-18",
         "Headset",
         "Acessórios",
         1069.53,
         4,
         "São Paulo",
         "Cartão de Crédito"
        ],
        [
         419,
         "2025-02-12",
         "Teclado",
         "Acessórios",
         3465.42,
         1,
         "Belo Horizonte",
         "Transferência"
        ],
        [
         420,
         "2025-04-08",
         "Mouse",
         "Acessórios",
         663.82,
         2,
         "Belo Horizonte",
         "Pix"
        ],
        [
         421,
         "2024-10-06",
         "Notebook",
         "Eletrônicos",
         2650.67,
         5,
         "Belo Horizonte",
         "Transferência"
        ],
        [
         422,
         "2025-04-25",
         "Teclado",
         "Acessórios",
         496.64,
         2,
         "Porto Alegre",
         "Cartão de Crédito"
        ],
        [
         423,
         "2025-04-27",
         "Teclado",
         "Acessórios",
         4431.53,
         5,
         "Recife",
         "Pix"
        ],
        [
         424,
         "2025-01-13",
         "Notebook",
         "Eletrônicos",
         4762.84,
         2,
         "Curitiba",
         "Boleto"
        ],
        [
         425,
         "2025-01-06",
         "Monitor",
         "Eletrônicos",
         3092.07,
         3,
         "São Paulo",
         "Cartão de Crédito"
        ],
        [
         426,
         "2024-09-15",
         "Headset",
         "Acessórios",
         1368.78,
         4,
         "Rio de Janeiro",
         "Cartão de Crédito"
        ],
        [
         427,
         "2024-07-12",
         "Headset",
         "Acessórios",
         496.46,
         2,
         "Belo Horizonte",
         "Cartão de Crédito"
        ],
        [
         428,
         "2025-03-18",
         "Impressora",
         "Periféricos",
         3839.0,
         2,
         "Recife",
         "Pix"
        ],
        [
         429,
         "2024-11-02",
         "Mouse",
         "Acessórios",
         2886.0,
         5,
         "Belo Horizonte",
         "Boleto"
        ],
        [
         430,
         "2025-01-12",
         "Impressora",
         "Periféricos",
         1068.47,
         4,
         "São Paulo",
         "Cartão de Crédito"
        ],
        [
         431,
         "2024-07-06",
         "Mouse",
         "Acessórios",
         2965.95,
         3,
         "Porto Alegre",
         "Transferência"
        ],
        [
         432,
         "2024-07-27",
         "Impressora",
         "Periféricos",
         4656.1,
         4,
         "Porto Alegre",
         "Transferência"
        ],
        [
         433,
         "2025-01-22",
         "Monitor",
         "Eletrônicos",
         2734.38,
         5,
         "Rio de Janeiro",
         "Pix"
        ],
        [
         434,
         "2025-03-24",
         "Headset",
         "Acessórios",
         2835.2,
         2,
         "São Paulo",
         "Cartão de Crédito"
        ],
        [
         435,
         "2024-09-12",
         "Impressora",
         "Periféricos",
         1928.37,
         3,
         "Curitiba",
         "Cartão de Crédito"
        ],
        [
         436,
         "2024-09-06",
         "Teclado",
         "Acessórios",
         4109.71,
         2,
         "Porto Alegre",
         "Cartão de Crédito"
        ],
        [
         437,
         "2025-02-14",
         "Headset",
         "Acessórios",
         868.78,
         4,
         "Belo Horizonte",
         "Pix"
        ],
        [
         438,
         "2025-02-02",
         "Teclado",
         "Acessórios",
         900.35,
         2,
         "Belo Horizonte",
         "Transferência"
        ],
        [
         439,
         "2024-10-10",
         "Notebook",
         "Eletrônicos",
         3510.36,
         1,
         "Rio de Janeiro",
         "Pix"
        ],
        [
         440,
         "2025-02-22",
         "Mouse",
         "Acessórios",
         2386.34,
         3,
         "Rio de Janeiro",
         "Cartão de Crédito"
        ],
        [
         441,
         "2024-12-21",
         "Impressora",
         "Periféricos",
         4125.07,
         4,
         "Curitiba",
         "Pix"
        ],
        [
         442,
         "2024-10-24",
         "Notebook",
         "Eletrônicos",
         1902.56,
         4,
         "Porto Alegre",
         "Cartão de Crédito"
        ],
        [
         443,
         "2025-04-01",
         "Mouse",
         "Acessórios",
         3502.37,
         5,
         "Rio de Janeiro",
         "Pix"
        ],
        [
         444,
         "2024-12-29",
         "Headset",
         "Acessórios",
         1811.83,
         4,
         "Porto Alegre",
         "Transferência"
        ],
        [
         445,
         "2025-01-22",
         "Monitor",
         "Eletrônicos",
         4280.27,
         2,
         "Belo Horizonte",
         "Boleto"
        ],
        [
         446,
         "2024-08-26",
         "Headset",
         "Acessórios",
         4566.32,
         3,
         "Porto Alegre",
         "Boleto"
        ],
        [
         447,
         "2024-07-05",
         "Notebook",
         "Eletrônicos",
         1568.99,
         5,
         "Curitiba",
         "Cartão de Crédito"
        ],
        [
         448,
         "2024-09-13",
         "Impressora",
         "Periféricos",
         945.85,
         1,
         "Belo Horizonte",
         "Transferência"
        ],
        [
         449,
         "2025-01-04",
         "Notebook",
         "Eletrônicos",
         527.56,
         3,
         "Rio de Janeiro",
         "Pix"
        ],
        [
         450,
         "2024-09-15",
         "Monitor",
         "Eletrônicos",
         1449.58,
         1,
         "Belo Horizonte",
         "Boleto"
        ],
        [
         451,
         "2024-06-28",
         "Monitor",
         "Eletrônicos",
         649.94,
         4,
         "Recife",
         "Transferência"
        ],
        [
         452,
         "2025-01-11",
         "Headset",
         "Acessórios",
         1045.31,
         5,
         "Curitiba",
         "Transferência"
        ],
        [
         453,
         "2024-07-27",
         "Notebook",
         "Eletrônicos",
         1765.81,
         2,
         "Porto Alegre",
         "Boleto"
        ],
        [
         454,
         "2024-09-10",
         "Mouse",
         "Acessórios",
         4334.24,
         1,
         "Belo Horizonte",
         "Boleto"
        ],
        [
         455,
         "2024-06-05",
         "Headset",
         "Acessórios",
         3755.35,
         5,
         "Rio de Janeiro",
         "Transferência"
        ],
        [
         456,
         "2025-03-10",
         "Monitor",
         "Eletrônicos",
         2662.64,
         4,
         "Porto Alegre",
         "Transferência"
        ],
        [
         457,
         "2024-09-14",
         "Mouse",
         "Acessórios",
         1066.55,
         5,
         "Rio de Janeiro",
         "Cartão de Crédito"
        ],
        [
         458,
         "2025-02-13",
         "Headset",
         "Acessórios",
         2237.29,
         4,
         "Curitiba",
         "Boleto"
        ],
        [
         459,
         "2024-10-06",
         "Impressora",
         "Periféricos",
         4694.32,
         4,
         "Recife",
         "Cartão de Crédito"
        ],
        [
         460,
         "2025-03-11",
         "Headset",
         "Acessórios",
         3473.64,
         1,
         "Belo Horizonte",
         "Transferência"
        ],
        [
         461,
         "2025-04-05",
         "Headset",
         "Acessórios",
         542.63,
         4,
         "São Paulo",
         "Transferência"
        ],
        [
         462,
         "2025-04-14",
         "Headset",
         "Acessórios",
         4913.45,
         3,
         "Belo Horizonte",
         "Transferência"
        ],
        [
         463,
         "2024-12-13",
         "Headset",
         "Acessórios",
         3150.38,
         1,
         "Rio de Janeiro",
         "Cartão de Crédito"
        ],
        [
         464,
         "2024-11-23",
         "Monitor",
         "Eletrônicos",
         1001.25,
         2,
         "Recife",
         "Transferência"
        ],
        [
         465,
         "2024-08-20",
         "Notebook",
         "Eletrônicos",
         3175.67,
         3,
         "Curitiba",
         "Cartão de Crédito"
        ],
        [
         466,
         "2024-08-07",
         "Monitor",
         "Eletrônicos",
         2212.11,
         2,
         "São Paulo",
         "Boleto"
        ],
        [
         467,
         "2024-10-25",
         "Teclado",
         "Acessórios",
         2798.25,
         2,
         "Belo Horizonte",
         "Transferência"
        ],
        [
         468,
         "2025-03-10",
         "Headset",
         "Acessórios",
         1860.27,
         1,
         "Recife",
         "Pix"
        ],
        [
         469,
         "2024-10-15",
         "Monitor",
         "Eletrônicos",
         1091.18,
         4,
         "Belo Horizonte",
         "Cartão de Crédito"
        ],
        [
         470,
         "2025-04-04",
         "Notebook",
         "Eletrônicos",
         1125.76,
         4,
         "Curitiba",
         "Transferência"
        ],
        [
         471,
         "2024-10-11",
         "Mouse",
         "Acessórios",
         2357.0,
         1,
         "Rio de Janeiro",
         "Pix"
        ],
        [
         472,
         "2024-12-06",
         "Teclado",
         "Acessórios",
         757.67,
         3,
         "Rio de Janeiro",
         "Boleto"
        ],
        [
         473,
         "2024-11-16",
         "Teclado",
         "Acessórios",
         2221.38,
         4,
         "Belo Horizonte",
         "Boleto"
        ],
        [
         474,
         "2024-08-12",
         "Mouse",
         "Acessórios",
         3851.9,
         5,
         "Recife",
         "Boleto"
        ],
        [
         475,
         "2024-10-20",
         "Notebook",
         "Eletrônicos",
         2754.02,
         1,
         "Rio de Janeiro",
         "Boleto"
        ],
        [
         476,
         "2024-11-03",
         "Teclado",
         "Acessórios",
         1072.08,
         2,
         "Curitiba",
         "Transferência"
        ],
        [
         477,
         "2024-11-13",
         "Impressora",
         "Periféricos",
         2804.45,
         1,
         "Curitiba",
         "Cartão de Crédito"
        ],
        [
         478,
         "2024-06-24",
         "Monitor",
         "Eletrônicos",
         4137.49,
         3,
         "São Paulo",
         "Cartão de Crédito"
        ],
        [
         479,
         "2025-03-10",
         "Monitor",
         "Eletrônicos",
         410.48,
         1,
         "Curitiba",
         "Cartão de Crédito"
        ],
        [
         480,
         "2025-03-19",
         "Mouse",
         "Acessórios",
         4955.96,
         4,
         "Recife",
         "Boleto"
        ],
        [
         481,
         "2025-05-01",
         "Mouse",
         "Acessórios",
         652.1,
         4,
         "Recife",
         "Cartão de Crédito"
        ],
        [
         482,
         "2025-04-01",
         "Monitor",
         "Eletrônicos",
         794.41,
         4,
         "Recife",
         "Transferência"
        ],
        [
         483,
         "2025-04-28",
         "Notebook",
         "Eletrônicos",
         3707.02,
         5,
         "Recife",
         "Cartão de Crédito"
        ],
        [
         484,
         "2025-02-17",
         "Teclado",
         "Acessórios",
         1621.01,
         3,
         "Rio de Janeiro",
         "Pix"
        ],
        [
         485,
         "2025-04-09",
         "Impressora",
         "Periféricos",
         2526.69,
         5,
         "Porto Alegre",
         "Transferência"
        ],
        [
         486,
         "2025-05-15",
         "Notebook",
         "Eletrônicos",
         3741.63,
         3,
         "São Paulo",
         "Boleto"
        ],
        [
         487,
         "2024-07-10",
         "Impressora",
         "Periféricos",
         608.28,
         4,
         "Recife",
         "Pix"
        ],
        [
         488,
         "2024-06-24",
         "Headset",
         "Acessórios",
         167.99,
         2,
         "Curitiba",
         "Transferência"
        ],
        [
         489,
         "2024-12-14",
         "Mouse",
         "Acessórios",
         785.67,
         3,
         "São Paulo",
         "Cartão de Crédito"
        ],
        [
         490,
         "2024-08-03",
         "Notebook",
         "Eletrônicos",
         2991.36,
         5,
         "Porto Alegre",
         "Boleto"
        ],
        [
         491,
         "2025-03-06",
         "Mouse",
         "Acessórios",
         4709.96,
         3,
         "Curitiba",
         "Transferência"
        ],
        [
         492,
         "2024-07-12",
         "Notebook",
         "Eletrônicos",
         3414.15,
         4,
         "Rio de Janeiro",
         "Pix"
        ],
        [
         493,
         "2025-02-15",
         "Headset",
         "Acessórios",
         3749.38,
         3,
         "Recife",
         "Transferência"
        ],
        [
         494,
         "2025-01-23",
         "Headset",
         "Acessórios",
         1486.97,
         4,
         "Curitiba",
         "Cartão de Crédito"
        ],
        [
         495,
         "2024-12-21",
         "Headset",
         "Acessórios",
         2802.04,
         1,
         "Curitiba",
         "Cartão de Crédito"
        ],
        [
         496,
         "2024-09-08",
         "Notebook",
         "Eletrônicos",
         2360.75,
         1,
         "São Paulo",
         "Boleto"
        ],
        [
         497,
         "2025-03-29",
         "Monitor",
         "Eletrônicos",
         979.32,
         2,
         "Recife",
         "Cartão de Crédito"
        ],
        [
         498,
         "2024-10-18",
         "Impressora",
         "Periféricos",
         4157.28,
         5,
         "Porto Alegre",
         "Cartão de Crédito"
        ],
        [
         499,
         "2025-01-25",
         "Impressora",
         "Periféricos",
         1320.55,
         2,
         "Recife",
         "Pix"
        ],
        [
         500,
         "2024-08-01",
         "Impressora",
         "Periféricos",
         1293.55,
         3,
         "São Paulo",
         "Transferência"
        ]
       ],
       "datasetInfos": [],
       "dbfsResultPath": null,
       "isJsonSchema": true,
       "metadata": {},
       "overflow": false,
       "plotOptions": {
        "customPlotOptions": {},
        "displayType": "table",
        "pivotAggregation": null,
        "pivotColumns": null,
        "xColumns": null,
        "yColumns": null
       },
       "removedWidgets": [],
       "schema": [
        {
         "metadata": "{}",
         "name": "OrderID",
         "type": "\"integer\""
        },
        {
         "metadata": "{\"__detected_date_formats\":\"yyyy-M-d\"}",
         "name": "Date",
         "type": "\"date\""
        },
        {
         "metadata": "{}",
         "name": "Product",
         "type": "\"string\""
        },
        {
         "metadata": "{}",
         "name": "Category",
         "type": "\"string\""
        },
        {
         "metadata": "{}",
         "name": "Amount",
         "type": "\"double\""
        },
        {
         "metadata": "{}",
         "name": "Quantity",
         "type": "\"integer\""
        },
        {
         "metadata": "{}",
         "name": "City",
         "type": "\"string\""
        },
        {
         "metadata": "{}",
         "name": "PaymentType",
         "type": "\"string\""
        }
       ],
       "type": "table"
      }
     },
     "output_type": "display_data"
    }
   ],
   "source": [
    "# Localização do arquivo\n",
    "file_location = \"/FileStore/tables/sales_data.csv\"\n",
    "file_type = \"csv\"\n",
    "\n",
    "# Leitura do CSV corretamente\n",
    "df = spark.read.format(file_type) \\\n",
    "  .option(\"header\", \"true\") \\\n",
    "  .option(\"inferSchema\", \"true\") \\\n",
    "  .load(file_location)\n",
    "\n",
    "# Exibir os dados\n",
    "display(df)\n"
   ]
  },
  {
   "cell_type": "markdown",
   "metadata": {
    "application/vnd.databricks.v1+cell": {
     "cellMetadata": {
      "byteLimit": 2048000,
      "rowLimit": 10000
     },
     "inputWidgets": {},
     "nuid": "6af49918-04fd-4093-bcd8-4e20596c3348",
     "showTitle": false,
     "tableResultSettingsMap": {},
     "title": ""
    }
   },
   "source": [
    "Análise das Vendas por Produto, Cidade e Forma de Pagamento"
   ]
  },
  {
   "cell_type": "code",
   "execution_count": 0,
   "metadata": {
    "application/vnd.databricks.v1+cell": {
     "cellMetadata": {
      "byteLimit": 2048000,
      "rowLimit": 10000
     },
     "inputWidgets": {},
     "nuid": "fdf7d123-7a09-4744-b1d4-d9c058b3463c",
     "showTitle": false,
     "tableResultSettingsMap": {},
     "title": ""
    }
   },
   "outputs": [
    {
     "output_type": "display_data",
     "data": {
      "text/html": [
       "<style scoped>\n",
       "  .table-result-container {\n",
       "    max-height: 300px;\n",
       "    overflow: auto;\n",
       "  }\n",
       "  table, th, td {\n",
       "    border: 1px solid black;\n",
       "    border-collapse: collapse;\n",
       "  }\n",
       "  th, td {\n",
       "    padding: 5px;\n",
       "  }\n",
       "  th {\n",
       "    text-align: left;\n",
       "  }\n",
       "</style><div class='table-result-container'><table class='table-result'><thead style='background-color: white'><tr><th>Product</th><th>Total_Vendas</th></tr></thead><tbody><tr><td>Impressora</td><td>234690.43</td></tr><tr><td>Notebook</td><td>221855.53</td></tr><tr><td>Mouse</td><td>212296.31</td></tr><tr><td>Headset</td><td>212040.97</td></tr><tr><td>Monitor</td><td>210660.11</td></tr><tr><td>Teclado</td><td>198711.0</td></tr></tbody></table></div>"
      ]
     },
     "metadata": {
      "application/vnd.databricks.v1+output": {
       "addedWidgets": {},
       "aggData": [],
       "aggError": "",
       "aggOverflow": false,
       "aggSchema": [],
       "aggSeriesLimitReached": false,
       "aggType": "",
       "arguments": {},
       "columnCustomDisplayInfos": {},
       "data": [
        [
         "Impressora",
         234690.43
        ],
        [
         "Notebook",
         221855.53
        ],
        [
         "Mouse",
         212296.31
        ],
        [
         "Headset",
         212040.97
        ],
        [
         "Monitor",
         210660.11
        ],
        [
         "Teclado",
         198711.0
        ]
       ],
       "datasetInfos": [],
       "dbfsResultPath": null,
       "isJsonSchema": true,
       "metadata": {},
       "overflow": false,
       "plotOptions": {
        "customPlotOptions": {},
        "displayType": "table",
        "pivotAggregation": null,
        "pivotColumns": null,
        "xColumns": null,
        "yColumns": null
       },
       "removedWidgets": [],
       "schema": [
        {
         "metadata": "{}",
         "name": "Product",
         "type": "\"string\""
        },
        {
         "metadata": "{}",
         "name": "Total_Vendas",
         "type": "\"double\""
        }
       ],
       "type": "table"
      }
     },
     "output_type": "display_data"
    }
   ],
   "source": [
    "# Total de Venda por Produto\n",
    "from pyspark.sql.functions import sum, round\n",
    "\n",
    "df.groupBy(\"Product\") \\\n",
    "  .agg(round(sum(\"Amount\"), 2).alias(\"Total_Vendas\")) \\\n",
    "  .orderBy(\"Total_Vendas\", ascending=False) \\\n",
    "  .display()"
   ]
  },
  {
   "cell_type": "code",
   "execution_count": 0,
   "metadata": {
    "application/vnd.databricks.v1+cell": {
     "cellMetadata": {
      "byteLimit": 2048000,
      "rowLimit": 10000
     },
     "inputWidgets": {},
     "nuid": "a1c03296-f806-4d68-b942-00596d968684",
     "showTitle": false,
     "tableResultSettingsMap": {},
     "title": ""
    }
   },
   "outputs": [
    {
     "output_type": "display_data",
     "data": {
      "text/html": [
       "<style scoped>\n",
       "  .table-result-container {\n",
       "    max-height: 300px;\n",
       "    overflow: auto;\n",
       "  }\n",
       "  table, th, td {\n",
       "    border: 1px solid black;\n",
       "    border-collapse: collapse;\n",
       "  }\n",
       "  th, td {\n",
       "    padding: 5px;\n",
       "  }\n",
       "  th {\n",
       "    text-align: left;\n",
       "  }\n",
       "</style><div class='table-result-container'><table class='table-result'><thead style='background-color: white'><tr><th>City</th><th>Total_Vendas</th></tr></thead><tbody><tr><td>Curitiba</td><td>244953.08</td></tr><tr><td>Porto Alegre</td><td>235265.4</td></tr><tr><td>Belo Horizonte</td><td>229579.74</td></tr><tr><td>Recife</td><td>198404.87</td></tr><tr><td>Rio de Janeiro</td><td>197905.42</td></tr><tr><td>São Paulo</td><td>184145.84</td></tr></tbody></table></div>"
      ]
     },
     "metadata": {
      "application/vnd.databricks.v1+output": {
       "addedWidgets": {},
       "aggData": [],
       "aggError": "",
       "aggOverflow": false,
       "aggSchema": [],
       "aggSeriesLimitReached": false,
       "aggType": "",
       "arguments": {},
       "columnCustomDisplayInfos": {},
       "data": [
        [
         "Curitiba",
         244953.08
        ],
        [
         "Porto Alegre",
         235265.4
        ],
        [
         "Belo Horizonte",
         229579.74
        ],
        [
         "Recife",
         198404.87
        ],
        [
         "Rio de Janeiro",
         197905.42
        ],
        [
         "São Paulo",
         184145.84
        ]
       ],
       "datasetInfos": [],
       "dbfsResultPath": null,
       "isJsonSchema": true,
       "metadata": {},
       "overflow": false,
       "plotOptions": {
        "customPlotOptions": {},
        "displayType": "table",
        "pivotAggregation": null,
        "pivotColumns": null,
        "xColumns": null,
        "yColumns": null
       },
       "removedWidgets": [],
       "schema": [
        {
         "metadata": "{}",
         "name": "City",
         "type": "\"string\""
        },
        {
         "metadata": "{}",
         "name": "Total_Vendas",
         "type": "\"double\""
        }
       ],
       "type": "table"
      }
     },
     "output_type": "display_data"
    }
   ],
   "source": [
    "#Total de Vendas por Cidade\n",
    "df.groupBy(\"City\") \\\n",
    "  .agg(round(sum(\"Amount\"), 2).alias(\"Total_Vendas\")) \\\n",
    "  .orderBy(\"Total_Vendas\", ascending=False) \\\n",
    "  .display()"
   ]
  },
  {
   "cell_type": "code",
   "execution_count": 0,
   "metadata": {
    "application/vnd.databricks.v1+cell": {
     "cellMetadata": {
      "byteLimit": 2048000,
      "rowLimit": 10000
     },
     "inputWidgets": {},
     "nuid": "7c549fd4-12e3-46c7-b532-a0b75cdecf49",
     "showTitle": false,
     "tableResultSettingsMap": {},
     "title": ""
    }
   },
   "outputs": [
    {
     "output_type": "display_data",
     "data": {
      "text/html": [
       "<style scoped>\n",
       "  .table-result-container {\n",
       "    max-height: 300px;\n",
       "    overflow: auto;\n",
       "  }\n",
       "  table, th, td {\n",
       "    border: 1px solid black;\n",
       "    border-collapse: collapse;\n",
       "  }\n",
       "  th, td {\n",
       "    padding: 5px;\n",
       "  }\n",
       "  th {\n",
       "    text-align: left;\n",
       "  }\n",
       "</style><div class='table-result-container'><table class='table-result'><thead style='background-color: white'><tr><th>PaymentType</th><th>Qtd_Vendas</th><th>Total_Vendas</th></tr></thead><tbody><tr><td>Boleto</td><td>122</td><td>338997.95</td></tr><tr><td>Cartão de Crédito</td><td>129</td><td>327348.84</td></tr><tr><td>Pix</td><td>127</td><td>322031.55</td></tr><tr><td>Transferência</td><td>122</td><td>301876.01</td></tr></tbody></table></div>"
      ]
     },
     "metadata": {
      "application/vnd.databricks.v1+output": {
       "addedWidgets": {},
       "aggData": [],
       "aggError": "",
       "aggOverflow": false,
       "aggSchema": [],
       "aggSeriesLimitReached": false,
       "aggType": "",
       "arguments": {},
       "columnCustomDisplayInfos": {},
       "data": [
        [
         "Boleto",
         122,
         338997.95
        ],
        [
         "Cartão de Crédito",
         129,
         327348.84
        ],
        [
         "Pix",
         127,
         322031.55
        ],
        [
         "Transferência",
         122,
         301876.01
        ]
       ],
       "datasetInfos": [],
       "dbfsResultPath": null,
       "isJsonSchema": true,
       "metadata": {},
       "overflow": false,
       "plotOptions": {
        "customPlotOptions": {},
        "displayType": "table",
        "pivotAggregation": null,
        "pivotColumns": null,
        "xColumns": null,
        "yColumns": null
       },
       "removedWidgets": [],
       "schema": [
        {
         "metadata": "{}",
         "name": "PaymentType",
         "type": "\"string\""
        },
        {
         "metadata": "{}",
         "name": "Qtd_Vendas",
         "type": "\"long\""
        },
        {
         "metadata": "{}",
         "name": "Total_Vendas",
         "type": "\"double\""
        }
       ],
       "type": "table"
      }
     },
     "output_type": "display_data"
    }
   ],
   "source": [
    "#Total de Vendas por Tipo de Pagamento\n",
    "from pyspark.sql.functions import sum, round, count\n",
    "\n",
    "df.groupBy(\"PaymentType\") \\\n",
    "  .agg(\n",
    "      count(\"*\").alias(\"Qtd_Vendas\"),\n",
    "      round(sum(\"Amount\"), 2).alias(\"Total_Vendas\")\n",
    "  ) \\\n",
    "  .orderBy(\"Total_Vendas\", ascending=False) \\\n",
    "  .display()"
   ]
  },
  {
   "cell_type": "markdown",
   "metadata": {
    "application/vnd.databricks.v1+cell": {
     "cellMetadata": {
      "byteLimit": 2048000,
      "rowLimit": 10000
     },
     "inputWidgets": {},
     "nuid": "54b5d3b2-a395-48e7-b7c1-16c321316f98",
     "showTitle": false,
     "tableResultSettingsMap": {},
     "title": ""
    }
   },
   "source": [
    "Evolução das Vendas por Mês"
   ]
  },
  {
   "cell_type": "code",
   "execution_count": 0,
   "metadata": {
    "application/vnd.databricks.v1+cell": {
     "cellMetadata": {
      "byteLimit": 2048000,
      "rowLimit": 10000
     },
     "inputWidgets": {},
     "nuid": "6cdf0426-d522-44ca-b107-5aa028e6c292",
     "showTitle": false,
     "tableResultSettingsMap": {},
     "title": ""
    }
   },
   "outputs": [],
   "source": [
    "# Criando uma coluna com ano e mês\n",
    "from pyspark.sql.functions import date_format\n",
    "\n",
    "df_mes = df.withColumn(\"Ano_Mes\", date_format(df[\"Date\"], \"yyyy-MM\"))"
   ]
  },
  {
   "cell_type": "code",
   "execution_count": 0,
   "metadata": {
    "application/vnd.databricks.v1+cell": {
     "cellMetadata": {
      "byteLimit": 2048000,
      "rowLimit": 10000
     },
     "inputWidgets": {},
     "nuid": "677fcb8b-09ee-4b6b-8cff-70ebbee0deb5",
     "showTitle": false,
     "tableResultSettingsMap": {},
     "title": ""
    }
   },
   "outputs": [
    {
     "output_type": "display_data",
     "data": {
      "text/html": [
       "<style scoped>\n",
       "  .table-result-container {\n",
       "    max-height: 300px;\n",
       "    overflow: auto;\n",
       "  }\n",
       "  table, th, td {\n",
       "    border: 1px solid black;\n",
       "    border-collapse: collapse;\n",
       "  }\n",
       "  th, td {\n",
       "    padding: 5px;\n",
       "  }\n",
       "  th {\n",
       "    text-align: left;\n",
       "  }\n",
       "</style><div class='table-result-container'><table class='table-result'><thead style='background-color: white'><tr><th>Ano_Mes</th><th>Total_Vendas</th></tr></thead><tbody><tr><td>2024-05</td><td>25608.3</td></tr><tr><td>2024-06</td><td>116228.75</td></tr><tr><td>2024-07</td><td>100803.31</td></tr><tr><td>2024-08</td><td>88213.26</td></tr><tr><td>2024-09</td><td>120839.77</td></tr><tr><td>2024-10</td><td>127995.63</td></tr><tr><td>2024-11</td><td>89310.78</td></tr><tr><td>2024-12</td><td>79165.94</td></tr><tr><td>2025-01</td><td>157030.19</td></tr><tr><td>2025-02</td><td>84495.47</td></tr><tr><td>2025-03</td><td>129188.38</td></tr><tr><td>2025-04</td><td>106587.68</td></tr><tr><td>2025-05</td><td>64786.89</td></tr></tbody></table></div>"
      ]
     },
     "metadata": {
      "application/vnd.databricks.v1+output": {
       "addedWidgets": {},
       "aggData": [],
       "aggError": "",
       "aggOverflow": false,
       "aggSchema": [],
       "aggSeriesLimitReached": false,
       "aggType": "",
       "arguments": {},
       "columnCustomDisplayInfos": {},
       "data": [
        [
         "2024-05",
         25608.3
        ],
        [
         "2024-06",
         116228.75
        ],
        [
         "2024-07",
         100803.31
        ],
        [
         "2024-08",
         88213.26
        ],
        [
         "2024-09",
         120839.77
        ],
        [
         "2024-10",
         127995.63
        ],
        [
         "2024-11",
         89310.78
        ],
        [
         "2024-12",
         79165.94
        ],
        [
         "2025-01",
         157030.19
        ],
        [
         "2025-02",
         84495.47
        ],
        [
         "2025-03",
         129188.38
        ],
        [
         "2025-04",
         106587.68
        ],
        [
         "2025-05",
         64786.89
        ]
       ],
       "datasetInfos": [],
       "dbfsResultPath": null,
       "isJsonSchema": true,
       "metadata": {},
       "overflow": false,
       "plotOptions": {
        "customPlotOptions": {},
        "displayType": "table",
        "pivotAggregation": null,
        "pivotColumns": null,
        "xColumns": null,
        "yColumns": null
       },
       "removedWidgets": [],
       "schema": [
        {
         "metadata": "{}",
         "name": "Ano_Mes",
         "type": "\"string\""
        },
        {
         "metadata": "{}",
         "name": "Total_Vendas",
         "type": "\"double\""
        }
       ],
       "type": "table"
      }
     },
     "output_type": "display_data"
    }
   ],
   "source": [
    "# Evolução das vendas por mês\n",
    "df_mes.groupBy(\"Ano_Mes\") \\\n",
    "    .agg(round(sum(\"Amount\"), 2).alias(\"Total_Vendas\")) \\\n",
    "    .orderBy(\"Ano_Mes\") \\\n",
    "    .display()"
   ]
  }
 ],
 "metadata": {
  "application/vnd.databricks.v1+notebook": {
   "computePreferences": null,
   "dashboards": [],
   "environmentMetadata": null,
   "inputWidgetPreferences": null,
   "language": "python",
   "notebookMetadata": {
    "mostRecentlyExecutedCommandWithImplicitDF": {
     "commandId": 1767357740050629,
     "dataframes": [
      "_sqldf"
     ]
    },
    "pythonIndentUnit": 4
   },
   "notebookName": "2025-05-26 - Projeto DIO | Análise de Vendas com PySpark",
   "widgets": {}
  }
 },
 "nbformat": 4,
 "nbformat_minor": 0
}